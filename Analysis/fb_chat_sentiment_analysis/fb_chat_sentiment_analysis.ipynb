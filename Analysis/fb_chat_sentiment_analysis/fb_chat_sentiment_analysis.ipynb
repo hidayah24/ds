{
 "cells": [
  {
   "cell_type": "markdown",
   "metadata": {},
   "source": [
    "<h2 align=\"center\">Firts step</h2> <br/>\n",
    "We have to backup data chat using web scraping, and here i using spider for scaping or backup <br/>\n",
    "chat. And you can follow this amazing tutorial for backup data chat <a href=\"https://towardsdatascience.com/can-python-be-used-for-facebook-chat-backup-of-course-it-can-877226b57ac8\"> Can python be used for Facebook chat backup? of course, it can!</a> <br/>\n",
    "<h3>Disclaimer</h3> <br/>\n",
    "This project is not meant for the peoples in the data sets, and i'm sorry if this offends you in any way!!<br/>\n",
    "I do this just for my training only... Thanks!!!"
   ]
  },
  {
   "cell_type": "code",
   "execution_count": 5,
   "metadata": {},
   "outputs": [
    {
     "data": {
      "text/html": [
       "<div>\n",
       "<style scoped>\n",
       "    .dataframe tbody tr th:only-of-type {\n",
       "        vertical-align: middle;\n",
       "    }\n",
       "\n",
       "    .dataframe tbody tr th {\n",
       "        vertical-align: top;\n",
       "    }\n",
       "\n",
       "    .dataframe thead th {\n",
       "        text-align: right;\n",
       "    }\n",
       "</style>\n",
       "<table border=\"1\" class=\"dataframe\">\n",
       "  <thead>\n",
       "    <tr style=\"text-align: right;\">\n",
       "      <th></th>\n",
       "      <th>Unnamed: 0</th>\n",
       "      <th>Name</th>\n",
       "      <th>Text</th>\n",
       "      <th>Time</th>\n",
       "    </tr>\n",
       "  </thead>\n",
       "  <tbody>\n",
       "    <tr>\n",
       "      <th>78</th>\n",
       "      <td>78</td>\n",
       "      <td>Taufik Hidayah</td>\n",
       "      <td>Si tono mh kalah tereh kawin ning</td>\n",
       "      <td>31 Jan</td>\n",
       "    </tr>\n",
       "    <tr>\n",
       "      <th>49</th>\n",
       "      <td>49</td>\n",
       "      <td>Doy'z</td>\n",
       "      <td>Bet.</td>\n",
       "      <td>3 Nov 2021</td>\n",
       "    </tr>\n",
       "    <tr>\n",
       "      <th>67</th>\n",
       "      <td>67</td>\n",
       "      <td>Doy'z</td>\n",
       "      <td>Bet kmha dilemur?</td>\n",
       "      <td>2 Dec 2021</td>\n",
       "    </tr>\n",
       "    <tr>\n",
       "      <th>9</th>\n",
       "      <td>9</td>\n",
       "      <td>Taufik Hidayah</td>\n",
       "      <td>Hh ath... Gampang lah sugan</td>\n",
       "      <td>27 Apr 2021</td>\n",
       "    </tr>\n",
       "    <tr>\n",
       "      <th>7</th>\n",
       "      <td>7</td>\n",
       "      <td>Doy'z</td>\n",
       "      <td>Nyinggg sakittt bell katingang cai hujan thh.....</td>\n",
       "      <td>19 Nov 2020</td>\n",
       "    </tr>\n",
       "    <tr>\n",
       "      <th>28</th>\n",
       "      <td>28</td>\n",
       "      <td>Jey Jr</td>\n",
       "      <td>Dekh</td>\n",
       "      <td>16 May 2021</td>\n",
       "    </tr>\n",
       "    <tr>\n",
       "      <th>49</th>\n",
       "      <td>49</td>\n",
       "      <td>Taufik Hidayah</td>\n",
       "      <td>Aslina bell... Hnt nanaon gs poho  uing nage M...</td>\n",
       "      <td>5 Dec 2021</td>\n",
       "    </tr>\n",
       "    <tr>\n",
       "      <th>4</th>\n",
       "      <td>4</td>\n",
       "      <td>Taufik Hidayah</td>\n",
       "      <td>Alahh kaa ngakut hela bieu mh Peuting dk di da...</td>\n",
       "      <td>1 Jan</td>\n",
       "    </tr>\n",
       "    <tr>\n",
       "      <th>34</th>\n",
       "      <td>34</td>\n",
       "      <td>Taufik Hidayah</td>\n",
       "      <td>Hmmmmmmmmmmmmmmmmmmm­mmmmmmmmmmmmmmmmmmmm­mmmm...</td>\n",
       "      <td>3 Oct 2021</td>\n",
       "    </tr>\n",
       "    <tr>\n",
       "      <th>47</th>\n",
       "      <td>47</td>\n",
       "      <td>Taufik Hidayah</td>\n",
       "      <td>Gede bell kadieu mh baradag</td>\n",
       "      <td>3 Oct 2021</td>\n",
       "    </tr>\n",
       "  </tbody>\n",
       "</table>\n",
       "</div>"
      ],
      "text/plain": [
       "    Unnamed: 0            Name  \\\n",
       "78          78  Taufik Hidayah   \n",
       "49          49           Doy'z   \n",
       "67          67           Doy'z   \n",
       "9            9  Taufik Hidayah   \n",
       "7            7           Doy'z   \n",
       "28          28          Jey Jr   \n",
       "49          49  Taufik Hidayah   \n",
       "4            4  Taufik Hidayah   \n",
       "34          34  Taufik Hidayah   \n",
       "47          47  Taufik Hidayah   \n",
       "\n",
       "                                                 Text         Time  \n",
       "78                  Si tono mh kalah tereh kawin ning       31 Jan  \n",
       "49                                               Bet.   3 Nov 2021  \n",
       "67                                  Bet kmha dilemur?   2 Dec 2021  \n",
       "9                         Hh ath... Gampang lah sugan  27 Apr 2021  \n",
       "7   Nyinggg sakittt bell katingang cai hujan thh.....  19 Nov 2020  \n",
       "28                                               Dekh  16 May 2021  \n",
       "49  Aslina bell... Hnt nanaon gs poho  uing nage M...   5 Dec 2021  \n",
       "4   Alahh kaa ngakut hela bieu mh Peuting dk di da...        1 Jan  \n",
       "34  Hmmmmmmmmmmmmmmmmmmm­mmmmmmmmmmmmmmmmmmmm­mmmm...   3 Oct 2021  \n",
       "47                        Gede bell kadieu mh baradag   3 Oct 2021  "
      ]
     },
     "execution_count": 5,
     "metadata": {},
     "output_type": "execute_result"
    }
   ],
   "source": [
    "import pandas as pd\n",
    "chat1 = pd.read_csv(\"backup_data/facebook/facebook/fb_text.csv\")\n",
    "chat2 = pd.read_csv(\"backup_data/facebook/facebook/fb_text2.csv\")\n",
    "chat3 = pd.read_csv(\"backup_data/facebook/facebook/fb_text3.csv\")\n",
    "chat4 = pd.read_csv(\"backup_data/facebook/facebook/fb_text4.csv\")\n",
    "chat5 = pd.read_csv(\"backup_data/facebook/facebook/fb_text5.csv\")\n",
    "frames = [chat1,chat2,chat3,chat4,chat5]\n",
    "df = pd.concat(frames)\n",
    "df.sample(10)"
   ]
  },
  {
   "cell_type": "code",
   "execution_count": 23,
   "metadata": {
    "scrolled": true
   },
   "outputs": [
    {
     "data": {
      "text/plain": [
       "(268, 4)"
      ]
     },
     "execution_count": 23,
     "metadata": {},
     "output_type": "execute_result"
    }
   ],
   "source": [
    "df.shape"
   ]
  },
  {
   "cell_type": "code",
   "execution_count": 24,
   "metadata": {},
   "outputs": [
    {
     "data": {
      "text/plain": [
       "Index(['Unnamed: 0', 'Name', 'Text', 'Time'], dtype='object')"
      ]
     },
     "execution_count": 24,
     "metadata": {},
     "output_type": "execute_result"
    }
   ],
   "source": [
    "df.columns"
   ]
  },
  {
   "cell_type": "code",
   "execution_count": 26,
   "metadata": {},
   "outputs": [
    {
     "data": {
      "text/html": [
       "<div>\n",
       "<style scoped>\n",
       "    .dataframe tbody tr th:only-of-type {\n",
       "        vertical-align: middle;\n",
       "    }\n",
       "\n",
       "    .dataframe tbody tr th {\n",
       "        vertical-align: top;\n",
       "    }\n",
       "\n",
       "    .dataframe thead th {\n",
       "        text-align: right;\n",
       "    }\n",
       "</style>\n",
       "<table border=\"1\" class=\"dataframe\">\n",
       "  <thead>\n",
       "    <tr style=\"text-align: right;\">\n",
       "      <th></th>\n",
       "      <th>Name</th>\n",
       "      <th>Text</th>\n",
       "      <th>Time</th>\n",
       "    </tr>\n",
       "  </thead>\n",
       "  <tbody>\n",
       "    <tr>\n",
       "      <th>0</th>\n",
       "      <td>Jey Jr</td>\n",
       "      <td>Bnr arii kieu mh emung wawuh deuii tika t ulin2</td>\n",
       "      <td>18 Apr 2021</td>\n",
       "    </tr>\n",
       "    <tr>\n",
       "      <th>1</th>\n",
       "      <td>Taufik Hidayah</td>\n",
       "      <td>NaN</td>\n",
       "      <td>18 Apr 2021</td>\n",
       "    </tr>\n",
       "    <tr>\n",
       "      <th>2</th>\n",
       "      <td>Taufik Hidayah</td>\n",
       "      <td>NaN</td>\n",
       "      <td>18 Apr 2021</td>\n",
       "    </tr>\n",
       "    <tr>\n",
       "      <th>3</th>\n",
       "      <td>Jey Jr</td>\n",
       "      <td>Ahh cadukk</td>\n",
       "      <td>18 Apr 2021</td>\n",
       "    </tr>\n",
       "    <tr>\n",
       "      <th>4</th>\n",
       "      <td>Jey Jr</td>\n",
       "      <td>Woy dieuu atuh Cigh nu goreng hate pisan k aku...</td>\n",
       "      <td>27 Apr 2021</td>\n",
       "    </tr>\n",
       "  </tbody>\n",
       "</table>\n",
       "</div>"
      ],
      "text/plain": [
       "             Name                                               Text  \\\n",
       "0          Jey Jr    Bnr arii kieu mh emung wawuh deuii tika t ulin2   \n",
       "1  Taufik Hidayah                                                NaN   \n",
       "2  Taufik Hidayah                                                NaN   \n",
       "3          Jey Jr                                         Ahh cadukk   \n",
       "4          Jey Jr  Woy dieuu atuh Cigh nu goreng hate pisan k aku...   \n",
       "\n",
       "          Time  \n",
       "0  18 Apr 2021  \n",
       "1  18 Apr 2021  \n",
       "2  18 Apr 2021  \n",
       "3  18 Apr 2021  \n",
       "4  27 Apr 2021  "
      ]
     },
     "execution_count": 26,
     "metadata": {},
     "output_type": "execute_result"
    }
   ],
   "source": [
    "df2 = df.drop(['Unnamed: 0'], axis=1)\n",
    "df2.head()"
   ]
  },
  {
   "cell_type": "code",
   "execution_count": 28,
   "metadata": {},
   "outputs": [
    {
     "data": {
      "text/plain": [
       "(262, 3)"
      ]
     },
     "execution_count": 28,
     "metadata": {},
     "output_type": "execute_result"
    }
   ],
   "source": [
    "df2.dropna(inplace=True)\n",
    "df2.shape"
   ]
  },
  {
   "cell_type": "code",
   "execution_count": 29,
   "metadata": {
    "scrolled": true
   },
   "outputs": [
    {
     "data": {
      "text/html": [
       "<div>\n",
       "<style scoped>\n",
       "    .dataframe tbody tr th:only-of-type {\n",
       "        vertical-align: middle;\n",
       "    }\n",
       "\n",
       "    .dataframe tbody tr th {\n",
       "        vertical-align: top;\n",
       "    }\n",
       "\n",
       "    .dataframe thead th {\n",
       "        text-align: right;\n",
       "    }\n",
       "</style>\n",
       "<table border=\"1\" class=\"dataframe\">\n",
       "  <thead>\n",
       "    <tr style=\"text-align: right;\">\n",
       "      <th></th>\n",
       "      <th>Name</th>\n",
       "      <th>Text</th>\n",
       "      <th>Time</th>\n",
       "    </tr>\n",
       "  </thead>\n",
       "  <tbody>\n",
       "    <tr>\n",
       "      <th>0</th>\n",
       "      <td>Jey Jr</td>\n",
       "      <td>Bnr arii kieu mh emung wawuh deuii tika t ulin2</td>\n",
       "      <td>18 Apr 2021</td>\n",
       "    </tr>\n",
       "    <tr>\n",
       "      <th>3</th>\n",
       "      <td>Jey Jr</td>\n",
       "      <td>Ahh cadukk</td>\n",
       "      <td>18 Apr 2021</td>\n",
       "    </tr>\n",
       "    <tr>\n",
       "      <th>4</th>\n",
       "      <td>Jey Jr</td>\n",
       "      <td>Woy dieuu atuh Cigh nu goreng hate pisan k aku...</td>\n",
       "      <td>27 Apr 2021</td>\n",
       "    </tr>\n",
       "    <tr>\n",
       "      <th>5</th>\n",
       "      <td>Taufik Hidayah</td>\n",
       "      <td>Oiiiiittttt.... Sok poho wae euyyy alahhh Sieu...</td>\n",
       "      <td>27 Apr 2021</td>\n",
       "    </tr>\n",
       "    <tr>\n",
       "      <th>6</th>\n",
       "      <td>Jey Jr</td>\n",
       "      <td>Goblog tehh gs poho nyh k akuu aynmhh Moall at...</td>\n",
       "      <td>27 Apr 2021</td>\n",
       "    </tr>\n",
       "  </tbody>\n",
       "</table>\n",
       "</div>"
      ],
      "text/plain": [
       "             Name                                               Text  \\\n",
       "0          Jey Jr    Bnr arii kieu mh emung wawuh deuii tika t ulin2   \n",
       "3          Jey Jr                                         Ahh cadukk   \n",
       "4          Jey Jr  Woy dieuu atuh Cigh nu goreng hate pisan k aku...   \n",
       "5  Taufik Hidayah  Oiiiiittttt.... Sok poho wae euyyy alahhh Sieu...   \n",
       "6          Jey Jr  Goblog tehh gs poho nyh k akuu aynmhh Moall at...   \n",
       "\n",
       "          Time  \n",
       "0  18 Apr 2021  \n",
       "3  18 Apr 2021  \n",
       "4  27 Apr 2021  \n",
       "5  27 Apr 2021  \n",
       "6  27 Apr 2021  "
      ]
     },
     "execution_count": 29,
     "metadata": {},
     "output_type": "execute_result"
    }
   ],
   "source": [
    "df2.head()"
   ]
  },
  {
   "cell_type": "code",
   "execution_count": 35,
   "metadata": {},
   "outputs": [
    {
     "name": "stdout",
     "output_type": "stream",
     "text": [
      "<class 'pandas.core.frame.DataFrame'>\n",
      "Int64Index: 262 entries, 0 to 103\n",
      "Data columns (total 3 columns):\n",
      " #   Column  Non-Null Count  Dtype \n",
      "---  ------  --------------  ----- \n",
      " 0   Name    262 non-null    object\n",
      " 1   Text    262 non-null    object\n",
      " 2   Time    262 non-null    object\n",
      "dtypes: object(3)\n",
      "memory usage: 8.2+ KB\n"
     ]
    }
   ],
   "source": [
    "df2.info()"
   ]
  }
 ],
 "metadata": {
  "kernelspec": {
   "display_name": "Python 3",
   "language": "python",
   "name": "python3"
  },
  "language_info": {
   "codemirror_mode": {
    "name": "ipython",
    "version": 3
   },
   "file_extension": ".py",
   "mimetype": "text/x-python",
   "name": "python",
   "nbconvert_exporter": "python",
   "pygments_lexer": "ipython3",
   "version": "3.8.5"
  }
 },
 "nbformat": 4,
 "nbformat_minor": 4
}
