{
 "cells": [
  {
   "cell_type": "markdown",
   "metadata": {},
   "source": [
    "<h2 align=\"center\">Firts step</h2> <br/>\n",
    "We have to backup data chat using web scraping, and here i using spider for scaping or backup <br/>\n",
    "chat. And you can follow this amazing tutorial for backup data chat <a href=\"https://towardsdatascience.com/can-python-be-used-for-facebook-chat-backup-of-course-it-can-877226b57ac8\"> Can python be used for Facebook chat backup? of course, it can!</a> <br/>\n",
    "<h3>Disclaimer</h3> <br/>\n",
    "This project is not meant for the peoples in the data sets, and i'm sorry if this offends you in any way!!<br/>\n",
    "I do this just for my training only... Thanks!!!"
   ]
  },
  {
   "cell_type": "code",
   "execution_count": 2,
   "metadata": {},
   "outputs": [
    {
     "data": {
      "text/html": [
       "<div>\n",
       "<style scoped>\n",
       "    .dataframe tbody tr th:only-of-type {\n",
       "        vertical-align: middle;\n",
       "    }\n",
       "\n",
       "    .dataframe tbody tr th {\n",
       "        vertical-align: top;\n",
       "    }\n",
       "\n",
       "    .dataframe thead th {\n",
       "        text-align: right;\n",
       "    }\n",
       "</style>\n",
       "<table border=\"1\" class=\"dataframe\">\n",
       "  <thead>\n",
       "    <tr style=\"text-align: right;\">\n",
       "      <th></th>\n",
       "      <th>Unnamed: 0</th>\n",
       "      <th>Name</th>\n",
       "      <th>Text</th>\n",
       "      <th>Time</th>\n",
       "    </tr>\n",
       "  </thead>\n",
       "  <tbody>\n",
       "    <tr>\n",
       "      <th>11</th>\n",
       "      <td>11</td>\n",
       "      <td>Taufik Hidayah</td>\n",
       "      <td>Puguh alus moal lila ari gede mh</td>\n",
       "      <td>28 Dec 2021</td>\n",
       "    </tr>\n",
       "    <tr>\n",
       "      <th>21</th>\n",
       "      <td>21</td>\n",
       "      <td>Jey Jr</td>\n",
       "      <td>Goblog</td>\n",
       "      <td>14 May 2021</td>\n",
       "    </tr>\n",
       "    <tr>\n",
       "      <th>17</th>\n",
       "      <td>17</td>\n",
       "      <td>Nden</td>\n",
       "      <td>Okehh</td>\n",
       "      <td>12 Jan</td>\n",
       "    </tr>\n",
       "    <tr>\n",
       "      <th>77</th>\n",
       "      <td>77</td>\n",
       "      <td>Taufik Hidayah</td>\n",
       "      <td>Hh bnrrr</td>\n",
       "      <td>2 Dec 2021</td>\n",
       "    </tr>\n",
       "    <tr>\n",
       "      <th>23</th>\n",
       "      <td>23</td>\n",
       "      <td>Taufik Hidayah</td>\n",
       "      <td>Sok mna no na</td>\n",
       "      <td>16 Jan</td>\n",
       "    </tr>\n",
       "    <tr>\n",
       "      <th>55</th>\n",
       "      <td>55</td>\n",
       "      <td>Jey Jr</td>\n",
       "      <td>Pn jng dewk Alahh da CAI hujan g ngiuhn hla</td>\n",
       "      <td>5 Dec 2021</td>\n",
       "    </tr>\n",
       "    <tr>\n",
       "      <th>4</th>\n",
       "      <td>4</td>\n",
       "      <td>Hermudin Ramadhan</td>\n",
       "      <td>Sumanget terus pik, sambut masadepan yg cerah ...</td>\n",
       "      <td>9 Jan</td>\n",
       "    </tr>\n",
       "    <tr>\n",
       "      <th>71</th>\n",
       "      <td>71</td>\n",
       "      <td>Doy'z</td>\n",
       "      <td>Alahhh kenbae lahh ngenog hela we cing sebeh K...</td>\n",
       "      <td>2 Dec 2021</td>\n",
       "    </tr>\n",
       "    <tr>\n",
       "      <th>4</th>\n",
       "      <td>4</td>\n",
       "      <td>Taufik Hidayah</td>\n",
       "      <td>Alahh kaa ngakut hela bieu mh Peuting dk di da...</td>\n",
       "      <td>1 Jan</td>\n",
       "    </tr>\n",
       "    <tr>\n",
       "      <th>27</th>\n",
       "      <td>27</td>\n",
       "      <td>Jey Jr</td>\n",
       "      <td>Kadieuu w da tra kmamna dekat</td>\n",
       "      <td>16 May 2021</td>\n",
       "    </tr>\n",
       "  </tbody>\n",
       "</table>\n",
       "</div>"
      ],
      "text/plain": [
       "    Unnamed: 0               Name  \\\n",
       "11          11     Taufik Hidayah   \n",
       "21          21             Jey Jr   \n",
       "17          17               Nden   \n",
       "77          77     Taufik Hidayah   \n",
       "23          23     Taufik Hidayah   \n",
       "55          55             Jey Jr   \n",
       "4            4  Hermudin Ramadhan   \n",
       "71          71              Doy'z   \n",
       "4            4     Taufik Hidayah   \n",
       "27          27             Jey Jr   \n",
       "\n",
       "                                                 Text         Time  \n",
       "11                   Puguh alus moal lila ari gede mh  28 Dec 2021  \n",
       "21                                             Goblog  14 May 2021  \n",
       "17                                              Okehh       12 Jan  \n",
       "77                                           Hh bnrrr   2 Dec 2021  \n",
       "23                                      Sok mna no na       16 Jan  \n",
       "55        Pn jng dewk Alahh da CAI hujan g ngiuhn hla   5 Dec 2021  \n",
       "4   Sumanget terus pik, sambut masadepan yg cerah ...        9 Jan  \n",
       "71  Alahhh kenbae lahh ngenog hela we cing sebeh K...   2 Dec 2021  \n",
       "4   Alahh kaa ngakut hela bieu mh Peuting dk di da...        1 Jan  \n",
       "27                      Kadieuu w da tra kmamna dekat  16 May 2021  "
      ]
     },
     "execution_count": 2,
     "metadata": {},
     "output_type": "execute_result"
    }
   ],
   "source": [
    "import pandas as pd\n",
    "chat1 = pd.read_csv(\"backup_data/facebook/facebook/fb_text.csv\")\n",
    "chat2 = pd.read_csv(\"backup_data/facebook/facebook/fb_text2.csv\")\n",
    "chat3 = pd.read_csv(\"backup_data/facebook/facebook/fb_text3.csv\")\n",
    "chat4 = pd.read_csv(\"backup_data/facebook/facebook/fb_text4.csv\")\n",
    "chat5 = pd.read_csv(\"backup_data/facebook/facebook/fb_text5.csv\")\n",
    "frames = [chat1,chat2,chat3,chat4,chat5]\n",
    "df = pd.concat(frames)\n",
    "df.sample(10)"
   ]
  },
  {
   "cell_type": "code",
   "execution_count": 3,
   "metadata": {
    "scrolled": true
   },
   "outputs": [
    {
     "data": {
      "text/plain": [
       "(268, 4)"
      ]
     },
     "execution_count": 3,
     "metadata": {},
     "output_type": "execute_result"
    }
   ],
   "source": [
    "df.shape"
   ]
  },
  {
   "cell_type": "code",
   "execution_count": 4,
   "metadata": {},
   "outputs": [
    {
     "data": {
      "text/plain": [
       "Index(['Unnamed: 0', 'Name', 'Text', 'Time'], dtype='object')"
      ]
     },
     "execution_count": 4,
     "metadata": {},
     "output_type": "execute_result"
    }
   ],
   "source": [
    "df.columns"
   ]
  },
  {
   "cell_type": "code",
   "execution_count": 5,
   "metadata": {},
   "outputs": [
    {
     "data": {
      "text/html": [
       "<div>\n",
       "<style scoped>\n",
       "    .dataframe tbody tr th:only-of-type {\n",
       "        vertical-align: middle;\n",
       "    }\n",
       "\n",
       "    .dataframe tbody tr th {\n",
       "        vertical-align: top;\n",
       "    }\n",
       "\n",
       "    .dataframe thead th {\n",
       "        text-align: right;\n",
       "    }\n",
       "</style>\n",
       "<table border=\"1\" class=\"dataframe\">\n",
       "  <thead>\n",
       "    <tr style=\"text-align: right;\">\n",
       "      <th></th>\n",
       "      <th>Name</th>\n",
       "      <th>Text</th>\n",
       "      <th>Time</th>\n",
       "    </tr>\n",
       "  </thead>\n",
       "  <tbody>\n",
       "    <tr>\n",
       "      <th>0</th>\n",
       "      <td>Jey Jr</td>\n",
       "      <td>Bnr arii kieu mh emung wawuh deuii tika t ulin2</td>\n",
       "      <td>18 Apr 2021</td>\n",
       "    </tr>\n",
       "    <tr>\n",
       "      <th>1</th>\n",
       "      <td>Taufik Hidayah</td>\n",
       "      <td>NaN</td>\n",
       "      <td>18 Apr 2021</td>\n",
       "    </tr>\n",
       "    <tr>\n",
       "      <th>2</th>\n",
       "      <td>Taufik Hidayah</td>\n",
       "      <td>NaN</td>\n",
       "      <td>18 Apr 2021</td>\n",
       "    </tr>\n",
       "    <tr>\n",
       "      <th>3</th>\n",
       "      <td>Jey Jr</td>\n",
       "      <td>Ahh cadukk</td>\n",
       "      <td>18 Apr 2021</td>\n",
       "    </tr>\n",
       "    <tr>\n",
       "      <th>4</th>\n",
       "      <td>Jey Jr</td>\n",
       "      <td>Woy dieuu atuh Cigh nu goreng hate pisan k aku...</td>\n",
       "      <td>27 Apr 2021</td>\n",
       "    </tr>\n",
       "  </tbody>\n",
       "</table>\n",
       "</div>"
      ],
      "text/plain": [
       "             Name                                               Text  \\\n",
       "0          Jey Jr    Bnr arii kieu mh emung wawuh deuii tika t ulin2   \n",
       "1  Taufik Hidayah                                                NaN   \n",
       "2  Taufik Hidayah                                                NaN   \n",
       "3          Jey Jr                                         Ahh cadukk   \n",
       "4          Jey Jr  Woy dieuu atuh Cigh nu goreng hate pisan k aku...   \n",
       "\n",
       "          Time  \n",
       "0  18 Apr 2021  \n",
       "1  18 Apr 2021  \n",
       "2  18 Apr 2021  \n",
       "3  18 Apr 2021  \n",
       "4  27 Apr 2021  "
      ]
     },
     "execution_count": 5,
     "metadata": {},
     "output_type": "execute_result"
    }
   ],
   "source": [
    "df2 = df.drop(['Unnamed: 0'], axis=1)\n",
    "df2.head()"
   ]
  },
  {
   "cell_type": "code",
   "execution_count": 6,
   "metadata": {},
   "outputs": [
    {
     "data": {
      "text/plain": [
       "(262, 3)"
      ]
     },
     "execution_count": 6,
     "metadata": {},
     "output_type": "execute_result"
    }
   ],
   "source": [
    "df2.dropna(inplace=True)\n",
    "df2.shape"
   ]
  },
  {
   "cell_type": "code",
   "execution_count": 7,
   "metadata": {
    "scrolled": true
   },
   "outputs": [
    {
     "data": {
      "text/html": [
       "<div>\n",
       "<style scoped>\n",
       "    .dataframe tbody tr th:only-of-type {\n",
       "        vertical-align: middle;\n",
       "    }\n",
       "\n",
       "    .dataframe tbody tr th {\n",
       "        vertical-align: top;\n",
       "    }\n",
       "\n",
       "    .dataframe thead th {\n",
       "        text-align: right;\n",
       "    }\n",
       "</style>\n",
       "<table border=\"1\" class=\"dataframe\">\n",
       "  <thead>\n",
       "    <tr style=\"text-align: right;\">\n",
       "      <th></th>\n",
       "      <th>Name</th>\n",
       "      <th>Text</th>\n",
       "      <th>Time</th>\n",
       "    </tr>\n",
       "  </thead>\n",
       "  <tbody>\n",
       "    <tr>\n",
       "      <th>0</th>\n",
       "      <td>Jey Jr</td>\n",
       "      <td>Bnr arii kieu mh emung wawuh deuii tika t ulin2</td>\n",
       "      <td>18 Apr 2021</td>\n",
       "    </tr>\n",
       "    <tr>\n",
       "      <th>3</th>\n",
       "      <td>Jey Jr</td>\n",
       "      <td>Ahh cadukk</td>\n",
       "      <td>18 Apr 2021</td>\n",
       "    </tr>\n",
       "    <tr>\n",
       "      <th>4</th>\n",
       "      <td>Jey Jr</td>\n",
       "      <td>Woy dieuu atuh Cigh nu goreng hate pisan k aku...</td>\n",
       "      <td>27 Apr 2021</td>\n",
       "    </tr>\n",
       "    <tr>\n",
       "      <th>5</th>\n",
       "      <td>Taufik Hidayah</td>\n",
       "      <td>Oiiiiittttt.... Sok poho wae euyyy alahhh Sieu...</td>\n",
       "      <td>27 Apr 2021</td>\n",
       "    </tr>\n",
       "    <tr>\n",
       "      <th>6</th>\n",
       "      <td>Jey Jr</td>\n",
       "      <td>Goblog tehh gs poho nyh k akuu aynmhh Moall at...</td>\n",
       "      <td>27 Apr 2021</td>\n",
       "    </tr>\n",
       "  </tbody>\n",
       "</table>\n",
       "</div>"
      ],
      "text/plain": [
       "             Name                                               Text  \\\n",
       "0          Jey Jr    Bnr arii kieu mh emung wawuh deuii tika t ulin2   \n",
       "3          Jey Jr                                         Ahh cadukk   \n",
       "4          Jey Jr  Woy dieuu atuh Cigh nu goreng hate pisan k aku...   \n",
       "5  Taufik Hidayah  Oiiiiittttt.... Sok poho wae euyyy alahhh Sieu...   \n",
       "6          Jey Jr  Goblog tehh gs poho nyh k akuu aynmhh Moall at...   \n",
       "\n",
       "          Time  \n",
       "0  18 Apr 2021  \n",
       "3  18 Apr 2021  \n",
       "4  27 Apr 2021  \n",
       "5  27 Apr 2021  \n",
       "6  27 Apr 2021  "
      ]
     },
     "execution_count": 7,
     "metadata": {},
     "output_type": "execute_result"
    }
   ],
   "source": [
    "df2.head()"
   ]
  },
  {
   "cell_type": "code",
   "execution_count": 8,
   "metadata": {},
   "outputs": [
    {
     "data": {
      "text/html": [
       "<div>\n",
       "<style scoped>\n",
       "    .dataframe tbody tr th:only-of-type {\n",
       "        vertical-align: middle;\n",
       "    }\n",
       "\n",
       "    .dataframe tbody tr th {\n",
       "        vertical-align: top;\n",
       "    }\n",
       "\n",
       "    .dataframe thead th {\n",
       "        text-align: right;\n",
       "    }\n",
       "</style>\n",
       "<table border=\"1\" class=\"dataframe\">\n",
       "  <thead>\n",
       "    <tr style=\"text-align: right;\">\n",
       "      <th></th>\n",
       "      <th>Text</th>\n",
       "    </tr>\n",
       "  </thead>\n",
       "  <tbody>\n",
       "    <tr>\n",
       "      <th>81</th>\n",
       "      <td>T sopan pisannnn</td>\n",
       "    </tr>\n",
       "    <tr>\n",
       "      <th>21</th>\n",
       "      <td>Goblog</td>\n",
       "    </tr>\n",
       "    <tr>\n",
       "      <th>63</th>\n",
       "      <td>Paling rebo jun mun hnt hujan mh hayang ulin k...</td>\n",
       "    </tr>\n",
       "    <tr>\n",
       "      <th>68</th>\n",
       "      <td>Balik kehedd Kot ewh jelema pisan</td>\n",
       "    </tr>\n",
       "    <tr>\n",
       "      <th>88</th>\n",
       "      <td>Moal hadir dekh da t boga bbaturn kasep Kitu dekh</td>\n",
       "    </tr>\n",
       "    <tr>\n",
       "      <th>51</th>\n",
       "      <td>Sippp</td>\n",
       "    </tr>\n",
       "    <tr>\n",
       "      <th>29</th>\n",
       "      <td>Dieuu atuh bll ulinn</td>\n",
       "    </tr>\n",
       "    <tr>\n",
       "      <th>35</th>\n",
       "      <td>Di lame Ayaa</td>\n",
       "    </tr>\n",
       "    <tr>\n",
       "      <th>32</th>\n",
       "      <td>Tara aya sasaha... Sakapeng mh sok aya barudak...</td>\n",
       "    </tr>\n",
       "    <tr>\n",
       "      <th>49</th>\n",
       "      <td>Bet.</td>\n",
       "    </tr>\n",
       "  </tbody>\n",
       "</table>\n",
       "</div>"
      ],
      "text/plain": [
       "                                                 Text\n",
       "81                                   T sopan pisannnn\n",
       "21                                             Goblog\n",
       "63  Paling rebo jun mun hnt hujan mh hayang ulin k...\n",
       "68                  Balik kehedd Kot ewh jelema pisan\n",
       "88  Moal hadir dekh da t boga bbaturn kasep Kitu dekh\n",
       "51                                              Sippp\n",
       "29                               Dieuu atuh bll ulinn\n",
       "35                                       Di lame Ayaa\n",
       "32  Tara aya sasaha... Sakapeng mh sok aya barudak...\n",
       "49                                               Bet."
      ]
     },
     "execution_count": 8,
     "metadata": {},
     "output_type": "execute_result"
    }
   ],
   "source": [
    "df3 = df2.drop(['Name','Time'], axis=1)\n",
    "df3.sample(10)"
   ]
  },
  {
   "cell_type": "markdown",
   "metadata": {},
   "source": [
    "<h3>Case Folding </h3>"
   ]
  },
  {
   "cell_type": "code",
   "execution_count": 9,
   "metadata": {},
   "outputs": [
    {
     "data": {
      "text/html": [
       "<div>\n",
       "<style scoped>\n",
       "    .dataframe tbody tr th:only-of-type {\n",
       "        vertical-align: middle;\n",
       "    }\n",
       "\n",
       "    .dataframe tbody tr th {\n",
       "        vertical-align: top;\n",
       "    }\n",
       "\n",
       "    .dataframe thead th {\n",
       "        text-align: right;\n",
       "    }\n",
       "</style>\n",
       "<table border=\"1\" class=\"dataframe\">\n",
       "  <thead>\n",
       "    <tr style=\"text-align: right;\">\n",
       "      <th></th>\n",
       "      <th>Text</th>\n",
       "    </tr>\n",
       "  </thead>\n",
       "  <tbody>\n",
       "    <tr>\n",
       "      <th>45</th>\n",
       "      <td>gampang gs raat mh</td>\n",
       "    </tr>\n",
       "    <tr>\n",
       "      <th>67</th>\n",
       "      <td>bet kmha dilemur?</td>\n",
       "    </tr>\n",
       "    <tr>\n",
       "      <th>30</th>\n",
       "      <td>tara ayna mh</td>\n",
       "    </tr>\n",
       "    <tr>\n",
       "      <th>94</th>\n",
       "      <td>hhaahah</td>\n",
       "    </tr>\n",
       "    <tr>\n",
       "      <th>19</th>\n",
       "      <td>oitty</td>\n",
       "    </tr>\n",
       "    <tr>\n",
       "      <th>73</th>\n",
       "      <td>gadag kabehh ewh nu balik deuih</td>\n",
       "    </tr>\n",
       "    <tr>\n",
       "      <th>28</th>\n",
       "      <td>eeeuuummmmm</td>\n",
       "    </tr>\n",
       "    <tr>\n",
       "      <th>8</th>\n",
       "      <td>t kuduu ..unggal poe g aya d imah dekh</td>\n",
       "    </tr>\n",
       "    <tr>\n",
       "      <th>36</th>\n",
       "      <td>koma</td>\n",
       "    </tr>\n",
       "    <tr>\n",
       "      <th>56</th>\n",
       "      <td>gampang ath ari ktu mhh</td>\n",
       "    </tr>\n",
       "  </tbody>\n",
       "</table>\n",
       "</div>"
      ],
      "text/plain": [
       "                                      Text\n",
       "45                      gampang gs raat mh\n",
       "67                       bet kmha dilemur?\n",
       "30                            tara ayna mh\n",
       "94                                 hhaahah\n",
       "19                                   oitty\n",
       "73         gadag kabehh ewh nu balik deuih\n",
       "28                             eeeuuummmmm\n",
       "8   t kuduu ..unggal poe g aya d imah dekh\n",
       "36                                    koma\n",
       "56                 gampang ath ari ktu mhh"
      ]
     },
     "execution_count": 9,
     "metadata": {},
     "output_type": "execute_result"
    }
   ],
   "source": [
    "df3['Text'] = df3['Text'].str.lower()\n",
    "df3.sample(10)"
   ]
  }
 ],
 "metadata": {
  "kernelspec": {
   "display_name": "Python 3",
   "language": "python",
   "name": "python3"
  },
  "language_info": {
   "codemirror_mode": {
    "name": "ipython",
    "version": 3
   },
   "file_extension": ".py",
   "mimetype": "text/x-python",
   "name": "python",
   "nbconvert_exporter": "python",
   "pygments_lexer": "ipython3",
   "version": "3.8.5"
  }
 },
 "nbformat": 4,
 "nbformat_minor": 4
}
