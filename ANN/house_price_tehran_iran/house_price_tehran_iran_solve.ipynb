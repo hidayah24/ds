{
 "cells": [
  {
   "cell_type": "markdown",
   "metadata": {},
   "source": [
    "# House Price Tehran Iran"
   ]
  },
  {
   "cell_type": "markdown",
   "metadata": {},
   "source": [
    "<b>Context</b>\n",
    "<br/>\n",
    "I was trying to find a house for myself and I decide to collect many houses detail on an Iranian website with their updated price and this is the final data which is a kind of house pricing prediction.\n",
    "<br/>\n",
    "<br/>\n",
    "<b>Content</b> <br/>\n",
    "There is some information about each house:\n",
    "<ul>\n",
    "    <li>Area in square meters</li>\n",
    "    <li>Number of bedrooms</li>\n",
    "    <li>Has Parking or not</li>\n",
    "    <li>Has elevator or not</li>\n",
    "    <li>Has warehouse or not</li>\n",
    "    <li>The region where the house is placed</li>\n",
    "    <li>Price in Toman and USD</li>\n",
    "</ul>\n",
    "<b>Notes</b>\n",
    "<br/>\n",
    "<ul>\n",
    "    <li>Every USD is equal to 30,000 Tomans (Extra Info).</li>\n",
    "    <li>Take care about outliers.</li>\n",
    "</ul>\n",
    "<i>*Purpose of this project is for my learning only, credit from:*</i>\n",
    "<a href=\"https://www.kaggle.com/mokar2001/house-price-tehran-iran\">Kaggle</a>"
   ]
  },
  {
   "cell_type": "markdown",
   "metadata": {},
   "source": [
    "<h3>1. Data Cleaning </h3>"
   ]
  },
  {
   "cell_type": "code",
   "execution_count": 1,
   "metadata": {},
   "outputs": [],
   "source": [
    "import pandas as pd\n",
    "import matplotlib.pyplot as plt\n",
    "%matplotlib inline\n",
    "import numpy as np\n",
    "import seaborn as sns\n",
    "import warnings\n",
    "warnings.simplefilter(action='ignore', category=Warning)"
   ]
  },
  {
   "cell_type": "code",
   "execution_count": 2,
   "metadata": {},
   "outputs": [
    {
     "data": {
      "text/html": [
       "<div>\n",
       "<style scoped>\n",
       "    .dataframe tbody tr th:only-of-type {\n",
       "        vertical-align: middle;\n",
       "    }\n",
       "\n",
       "    .dataframe tbody tr th {\n",
       "        vertical-align: top;\n",
       "    }\n",
       "\n",
       "    .dataframe thead th {\n",
       "        text-align: right;\n",
       "    }\n",
       "</style>\n",
       "<table border=\"1\" class=\"dataframe\">\n",
       "  <thead>\n",
       "    <tr style=\"text-align: right;\">\n",
       "      <th></th>\n",
       "      <th>Area</th>\n",
       "      <th>Room</th>\n",
       "      <th>Parking</th>\n",
       "      <th>Warehouse</th>\n",
       "      <th>Elevator</th>\n",
       "      <th>Address</th>\n",
       "      <th>Price</th>\n",
       "      <th>Price(USD)</th>\n",
       "    </tr>\n",
       "  </thead>\n",
       "  <tbody>\n",
       "    <tr>\n",
       "      <th>0</th>\n",
       "      <td>63</td>\n",
       "      <td>1</td>\n",
       "      <td>True</td>\n",
       "      <td>True</td>\n",
       "      <td>True</td>\n",
       "      <td>Shahran</td>\n",
       "      <td>1.850000e+09</td>\n",
       "      <td>61666.67</td>\n",
       "    </tr>\n",
       "    <tr>\n",
       "      <th>1</th>\n",
       "      <td>60</td>\n",
       "      <td>1</td>\n",
       "      <td>True</td>\n",
       "      <td>True</td>\n",
       "      <td>True</td>\n",
       "      <td>Shahran</td>\n",
       "      <td>1.850000e+09</td>\n",
       "      <td>61666.67</td>\n",
       "    </tr>\n",
       "    <tr>\n",
       "      <th>2</th>\n",
       "      <td>79</td>\n",
       "      <td>2</td>\n",
       "      <td>True</td>\n",
       "      <td>True</td>\n",
       "      <td>True</td>\n",
       "      <td>Pardis</td>\n",
       "      <td>5.500000e+08</td>\n",
       "      <td>18333.33</td>\n",
       "    </tr>\n",
       "    <tr>\n",
       "      <th>3</th>\n",
       "      <td>95</td>\n",
       "      <td>2</td>\n",
       "      <td>True</td>\n",
       "      <td>True</td>\n",
       "      <td>True</td>\n",
       "      <td>Shahrake Qods</td>\n",
       "      <td>9.025000e+08</td>\n",
       "      <td>30083.33</td>\n",
       "    </tr>\n",
       "    <tr>\n",
       "      <th>4</th>\n",
       "      <td>123</td>\n",
       "      <td>2</td>\n",
       "      <td>True</td>\n",
       "      <td>True</td>\n",
       "      <td>True</td>\n",
       "      <td>Shahrake Gharb</td>\n",
       "      <td>7.000000e+09</td>\n",
       "      <td>233333.33</td>\n",
       "    </tr>\n",
       "  </tbody>\n",
       "</table>\n",
       "</div>"
      ],
      "text/plain": [
       "  Area  Room  Parking  Warehouse  Elevator         Address         Price  \\\n",
       "0   63     1     True       True      True         Shahran  1.850000e+09   \n",
       "1   60     1     True       True      True         Shahran  1.850000e+09   \n",
       "2   79     2     True       True      True          Pardis  5.500000e+08   \n",
       "3   95     2     True       True      True   Shahrake Qods  9.025000e+08   \n",
       "4  123     2     True       True      True  Shahrake Gharb  7.000000e+09   \n",
       "\n",
       "   Price(USD)  \n",
       "0    61666.67  \n",
       "1    61666.67  \n",
       "2    18333.33  \n",
       "3    30083.33  \n",
       "4   233333.33  "
      ]
     },
     "execution_count": 2,
     "metadata": {},
     "output_type": "execute_result"
    }
   ],
   "source": [
    "df = pd.read_csv(\"house_price_tehran_iran.csv\")\n",
    "df.head()"
   ]
  },
  {
   "cell_type": "code",
   "execution_count": 3,
   "metadata": {},
   "outputs": [
    {
     "data": {
      "text/plain": [
       "(3479, 8)"
      ]
     },
     "execution_count": 3,
     "metadata": {},
     "output_type": "execute_result"
    }
   ],
   "source": [
    "df.shape"
   ]
  },
  {
   "cell_type": "code",
   "execution_count": 4,
   "metadata": {},
   "outputs": [
    {
     "data": {
      "text/plain": [
       "193"
      ]
     },
     "execution_count": 4,
     "metadata": {},
     "output_type": "execute_result"
    }
   ],
   "source": [
    "len(df.Address.unique())"
   ]
  },
  {
   "cell_type": "code",
   "execution_count": 5,
   "metadata": {},
   "outputs": [
    {
     "data": {
      "text/html": [
       "<div>\n",
       "<style scoped>\n",
       "    .dataframe tbody tr th:only-of-type {\n",
       "        vertical-align: middle;\n",
       "    }\n",
       "\n",
       "    .dataframe tbody tr th {\n",
       "        vertical-align: top;\n",
       "    }\n",
       "\n",
       "    .dataframe thead th {\n",
       "        text-align: right;\n",
       "    }\n",
       "</style>\n",
       "<table border=\"1\" class=\"dataframe\">\n",
       "  <thead>\n",
       "    <tr style=\"text-align: right;\">\n",
       "      <th></th>\n",
       "      <th>Area</th>\n",
       "      <th>Room</th>\n",
       "      <th>Parking</th>\n",
       "      <th>Warehouse</th>\n",
       "      <th>Elevator</th>\n",
       "      <th>Price(USD)</th>\n",
       "    </tr>\n",
       "  </thead>\n",
       "  <tbody>\n",
       "    <tr>\n",
       "      <th>0</th>\n",
       "      <td>63</td>\n",
       "      <td>1</td>\n",
       "      <td>True</td>\n",
       "      <td>True</td>\n",
       "      <td>True</td>\n",
       "      <td>61666.67</td>\n",
       "    </tr>\n",
       "    <tr>\n",
       "      <th>1</th>\n",
       "      <td>60</td>\n",
       "      <td>1</td>\n",
       "      <td>True</td>\n",
       "      <td>True</td>\n",
       "      <td>True</td>\n",
       "      <td>61666.67</td>\n",
       "    </tr>\n",
       "    <tr>\n",
       "      <th>2</th>\n",
       "      <td>79</td>\n",
       "      <td>2</td>\n",
       "      <td>True</td>\n",
       "      <td>True</td>\n",
       "      <td>True</td>\n",
       "      <td>18333.33</td>\n",
       "    </tr>\n",
       "    <tr>\n",
       "      <th>3</th>\n",
       "      <td>95</td>\n",
       "      <td>2</td>\n",
       "      <td>True</td>\n",
       "      <td>True</td>\n",
       "      <td>True</td>\n",
       "      <td>30083.33</td>\n",
       "    </tr>\n",
       "    <tr>\n",
       "      <th>4</th>\n",
       "      <td>123</td>\n",
       "      <td>2</td>\n",
       "      <td>True</td>\n",
       "      <td>True</td>\n",
       "      <td>True</td>\n",
       "      <td>233333.33</td>\n",
       "    </tr>\n",
       "  </tbody>\n",
       "</table>\n",
       "</div>"
      ],
      "text/plain": [
       "  Area  Room  Parking  Warehouse  Elevator  Price(USD)\n",
       "0   63     1     True       True      True    61666.67\n",
       "1   60     1     True       True      True    61666.67\n",
       "2   79     2     True       True      True    18333.33\n",
       "3   95     2     True       True      True    30083.33\n",
       "4  123     2     True       True      True   233333.33"
      ]
     },
     "execution_count": 5,
     "metadata": {},
     "output_type": "execute_result"
    }
   ],
   "source": [
    "df2 = df.drop(['Address','Price'], axis='columns')\n",
    "df2.head()"
   ]
  },
  {
   "cell_type": "markdown",
   "metadata": {},
   "source": [
    "I don't think the Address and Price fields are useful so i removed it because: <br/>\n",
    "1. An address is the same as a name so it's not needed in ML or ANN <br/>\n",
    "2. *Every USD is equal to 30,000 Tomans (Extra Info).*, so i removed the price column because already represented"
   ]
  },
  {
   "cell_type": "code",
   "execution_count": 6,
   "metadata": {},
   "outputs": [
    {
     "data": {
      "text/plain": [
       "Area          0\n",
       "Room          0\n",
       "Parking       0\n",
       "Warehouse     0\n",
       "Elevator      0\n",
       "Price(USD)    0\n",
       "dtype: int64"
      ]
     },
     "execution_count": 6,
     "metadata": {},
     "output_type": "execute_result"
    }
   ],
   "source": [
    "df2.isnull().sum()"
   ]
  },
  {
   "cell_type": "code",
   "execution_count": 7,
   "metadata": {},
   "outputs": [
    {
     "data": {
      "text/plain": [
       "<AxesSubplot:xlabel='Room', ylabel='Price(USD)'>"
      ]
     },
     "execution_count": 7,
     "metadata": {},
     "output_type": "execute_result"
    },
    {
     "data": {
      "image/png": "[encoded data removed]",
      "text/plain": [
       "<Figure size 720x576 with 1 Axes>"
      ]
     },
     "metadata": {
      "needs_background": "light"
     },
     "output_type": "display_data"
    }
   ],
   "source": [
    "plt.figure(figsize=(10,8))\n",
    "sns.scatterplot(x='Room', y='Price(USD)', data=df2)"
   ]
  },
  {
   "cell_type": "code",
   "execution_count": 8,
   "metadata": {},
   "outputs": [
    {
     "data": {
      "text/plain": [
       "Area           object\n",
       "Room            int64\n",
       "Parking          bool\n",
       "Warehouse        bool\n",
       "Elevator         bool\n",
       "Price(USD)    float64\n",
       "dtype: object"
      ]
     },
     "execution_count": 8,
     "metadata": {},
     "output_type": "execute_result"
    }
   ],
   "source": [
    "df2.dtypes"
   ]
  },
  {
   "cell_type": "code",
   "execution_count": 9,
   "metadata": {},
   "outputs": [
    {
     "data": {
      "text/plain": [
       "array(['63', '60', '79', ..., '75', '105', '82'], dtype=object)"
      ]
     },
     "execution_count": 9,
     "metadata": {},
     "output_type": "execute_result"
    }
   ],
   "source": [
    "df2.Area.values"
   ]
  },
  {
   "cell_type": "code",
   "execution_count": 10,
   "metadata": {},
   "outputs": [
    {
     "data": {
      "text/plain": [
       "(3479, 6)"
      ]
     },
     "execution_count": 10,
     "metadata": {},
     "output_type": "execute_result"
    }
   ],
   "source": [
    "df2.shape"
   ]
  },
  {
   "cell_type": "code",
   "execution_count": 11,
   "metadata": {},
   "outputs": [
    {
     "data": {
      "text/html": [
       "<div>\n",
       "<style scoped>\n",
       "    .dataframe tbody tr th:only-of-type {\n",
       "        vertical-align: middle;\n",
       "    }\n",
       "\n",
       "    .dataframe tbody tr th {\n",
       "        vertical-align: top;\n",
       "    }\n",
       "\n",
       "    .dataframe thead th {\n",
       "        text-align: right;\n",
       "    }\n",
       "</style>\n",
       "<table border=\"1\" class=\"dataframe\">\n",
       "  <thead>\n",
       "    <tr style=\"text-align: right;\">\n",
       "      <th></th>\n",
       "      <th>Area</th>\n",
       "      <th>Room</th>\n",
       "      <th>Parking</th>\n",
       "      <th>Warehouse</th>\n",
       "      <th>Elevator</th>\n",
       "      <th>Price(USD)</th>\n",
       "    </tr>\n",
       "  </thead>\n",
       "  <tbody>\n",
       "    <tr>\n",
       "      <th>570</th>\n",
       "      <td>3,310,000,000</td>\n",
       "      <td>2</td>\n",
       "      <td>True</td>\n",
       "      <td>True</td>\n",
       "      <td>True</td>\n",
       "      <td>110333.33</td>\n",
       "    </tr>\n",
       "    <tr>\n",
       "      <th>709</th>\n",
       "      <td>16,160,000,000</td>\n",
       "      <td>3</td>\n",
       "      <td>True</td>\n",
       "      <td>True</td>\n",
       "      <td>True</td>\n",
       "      <td>538666.67</td>\n",
       "    </tr>\n",
       "    <tr>\n",
       "      <th>807</th>\n",
       "      <td>1,000</td>\n",
       "      <td>2</td>\n",
       "      <td>True</td>\n",
       "      <td>True</td>\n",
       "      <td>False</td>\n",
       "      <td>233333.33</td>\n",
       "    </tr>\n",
       "    <tr>\n",
       "      <th>1604</th>\n",
       "      <td>8,400,000,000</td>\n",
       "      <td>2</td>\n",
       "      <td>True</td>\n",
       "      <td>True</td>\n",
       "      <td>True</td>\n",
       "      <td>290000.00</td>\n",
       "    </tr>\n",
       "    <tr>\n",
       "      <th>2171</th>\n",
       "      <td>3,600</td>\n",
       "      <td>2</td>\n",
       "      <td>False</td>\n",
       "      <td>False</td>\n",
       "      <td>False</td>\n",
       "      <td>324000.00</td>\n",
       "    </tr>\n",
       "    <tr>\n",
       "      <th>2802</th>\n",
       "      <td>2,550,000,000</td>\n",
       "      <td>2</td>\n",
       "      <td>True</td>\n",
       "      <td>True</td>\n",
       "      <td>True</td>\n",
       "      <td>85000.00</td>\n",
       "    </tr>\n",
       "  </tbody>\n",
       "</table>\n",
       "</div>"
      ],
      "text/plain": [
       "                  Area  Room  Parking  Warehouse  Elevator  Price(USD)\n",
       "570     3,310,000,000      2     True       True      True   110333.33\n",
       "709    16,160,000,000      3     True       True      True   538666.67\n",
       "807             1,000      2     True       True     False   233333.33\n",
       "1604    8,400,000,000      2     True       True      True   290000.00\n",
       "2171            3,600      2    False      False     False   324000.00\n",
       "2802    2,550,000,000      2     True       True      True    85000.00"
      ]
     },
     "execution_count": 11,
     "metadata": {},
     "output_type": "execute_result"
    }
   ],
   "source": [
    "df2[pd.to_numeric(df2.Area, errors='coerce').isnull()]"
   ]
  },
  {
   "cell_type": "code",
   "execution_count": 12,
   "metadata": {},
   "outputs": [
    {
     "data": {
      "text/plain": [
       "Int64Index([570, 709, 807, 1604, 2171, 2802], dtype='int64')"
      ]
     },
     "execution_count": 12,
     "metadata": {},
     "output_type": "execute_result"
    }
   ],
   "source": [
    "df2[pd.to_numeric(df2.Area, errors='coerce').isnull()].index"
   ]
  },
  {
   "cell_type": "code",
   "execution_count": 13,
   "metadata": {},
   "outputs": [
    {
     "data": {
      "text/plain": [
       "(3473, 6)"
      ]
     },
     "execution_count": 13,
     "metadata": {},
     "output_type": "execute_result"
    }
   ],
   "source": [
    "df3 = df2.drop(df2[pd.to_numeric(df2.Area, errors='coerce').isnull()].index, axis=0)\n",
    "df3.shape"
   ]
  },
  {
   "cell_type": "markdown",
   "metadata": {},
   "source": [
    "If you noticed that area column is a object so, i must change to int or float. And before i changes the column i there a some outliers that i have to remove it."
   ]
  },
  {
   "cell_type": "code",
   "execution_count": 14,
   "metadata": {},
   "outputs": [
    {
     "data": {
      "text/plain": [
       "Area            int64\n",
       "Room            int64\n",
       "Parking          bool\n",
       "Warehouse        bool\n",
       "Elevator         bool\n",
       "Price(USD)    float64\n",
       "dtype: object"
      ]
     },
     "execution_count": 14,
     "metadata": {},
     "output_type": "execute_result"
    }
   ],
   "source": [
    "df3.Area = pd.to_numeric(df3.Area)\n",
    "df3.dtypes"
   ]
  },
  {
   "cell_type": "code",
   "execution_count": 15,
   "metadata": {},
   "outputs": [
    {
     "data": {
      "text/html": [
       "<div>\n",
       "<style scoped>\n",
       "    .dataframe tbody tr th:only-of-type {\n",
       "        vertical-align: middle;\n",
       "    }\n",
       "\n",
       "    .dataframe tbody tr th {\n",
       "        vertical-align: top;\n",
       "    }\n",
       "\n",
       "    .dataframe thead th {\n",
       "        text-align: right;\n",
       "    }\n",
       "</style>\n",
       "<table border=\"1\" class=\"dataframe\">\n",
       "  <thead>\n",
       "    <tr style=\"text-align: right;\">\n",
       "      <th></th>\n",
       "      <th>Area</th>\n",
       "      <th>Room</th>\n",
       "      <th>Price(USD)</th>\n",
       "    </tr>\n",
       "  </thead>\n",
       "  <tbody>\n",
       "    <tr>\n",
       "      <th>count</th>\n",
       "      <td>3473.000000</td>\n",
       "      <td>3473.000000</td>\n",
       "      <td>3.473000e+03</td>\n",
       "    </tr>\n",
       "    <tr>\n",
       "      <th>mean</th>\n",
       "      <td>106.774547</td>\n",
       "      <td>2.079758</td>\n",
       "      <td>1.784874e+05</td>\n",
       "    </tr>\n",
       "    <tr>\n",
       "      <th>std</th>\n",
       "      <td>69.365567</td>\n",
       "      <td>0.758764</td>\n",
       "      <td>2.701353e+05</td>\n",
       "    </tr>\n",
       "    <tr>\n",
       "      <th>min</th>\n",
       "      <td>30.000000</td>\n",
       "      <td>0.000000</td>\n",
       "      <td>1.200000e+02</td>\n",
       "    </tr>\n",
       "    <tr>\n",
       "      <th>25%</th>\n",
       "      <td>69.000000</td>\n",
       "      <td>2.000000</td>\n",
       "      <td>4.716667e+04</td>\n",
       "    </tr>\n",
       "    <tr>\n",
       "      <th>50%</th>\n",
       "      <td>90.000000</td>\n",
       "      <td>2.000000</td>\n",
       "      <td>9.600000e+04</td>\n",
       "    </tr>\n",
       "    <tr>\n",
       "      <th>75%</th>\n",
       "      <td>120.000000</td>\n",
       "      <td>2.000000</td>\n",
       "      <td>2.000000e+05</td>\n",
       "    </tr>\n",
       "    <tr>\n",
       "      <th>max</th>\n",
       "      <td>929.000000</td>\n",
       "      <td>5.000000</td>\n",
       "      <td>3.080000e+06</td>\n",
       "    </tr>\n",
       "  </tbody>\n",
       "</table>\n",
       "</div>"
      ],
      "text/plain": [
       "              Area         Room    Price(USD)\n",
       "count  3473.000000  3473.000000  3.473000e+03\n",
       "mean    106.774547     2.079758  1.784874e+05\n",
       "std      69.365567     0.758764  2.701353e+05\n",
       "min      30.000000     0.000000  1.200000e+02\n",
       "25%      69.000000     2.000000  4.716667e+04\n",
       "50%      90.000000     2.000000  9.600000e+04\n",
       "75%     120.000000     2.000000  2.000000e+05\n",
       "max     929.000000     5.000000  3.080000e+06"
      ]
     },
     "execution_count": 15,
     "metadata": {},
     "output_type": "execute_result"
    }
   ],
   "source": [
    "df3.describe()"
   ]
  },
  {
   "cell_type": "code",
   "execution_count": 16,
   "metadata": {},
   "outputs": [
    {
     "data": {
      "text/html": [
       "<div>\n",
       "<style scoped>\n",
       "    .dataframe tbody tr th:only-of-type {\n",
       "        vertical-align: middle;\n",
       "    }\n",
       "\n",
       "    .dataframe tbody tr th {\n",
       "        vertical-align: top;\n",
       "    }\n",
       "\n",
       "    .dataframe thead th {\n",
       "        text-align: right;\n",
       "    }\n",
       "</style>\n",
       "<table border=\"1\" class=\"dataframe\">\n",
       "  <thead>\n",
       "    <tr style=\"text-align: right;\">\n",
       "      <th></th>\n",
       "      <th>Area</th>\n",
       "      <th>Room</th>\n",
       "      <th>Parking</th>\n",
       "      <th>Warehouse</th>\n",
       "      <th>Elevator</th>\n",
       "      <th>Price(USD)</th>\n",
       "    </tr>\n",
       "  </thead>\n",
       "  <tbody>\n",
       "    <tr>\n",
       "      <th>1126</th>\n",
       "      <td>105</td>\n",
       "      <td>2</td>\n",
       "      <td>True</td>\n",
       "      <td>True</td>\n",
       "      <td>True</td>\n",
       "      <td>29166.67</td>\n",
       "    </tr>\n",
       "    <tr>\n",
       "      <th>2524</th>\n",
       "      <td>100</td>\n",
       "      <td>2</td>\n",
       "      <td>True</td>\n",
       "      <td>False</td>\n",
       "      <td>True</td>\n",
       "      <td>30000.00</td>\n",
       "    </tr>\n",
       "    <tr>\n",
       "      <th>1634</th>\n",
       "      <td>49</td>\n",
       "      <td>1</td>\n",
       "      <td>True</td>\n",
       "      <td>True</td>\n",
       "      <td>True</td>\n",
       "      <td>89800.00</td>\n",
       "    </tr>\n",
       "    <tr>\n",
       "      <th>1446</th>\n",
       "      <td>90</td>\n",
       "      <td>2</td>\n",
       "      <td>True</td>\n",
       "      <td>True</td>\n",
       "      <td>True</td>\n",
       "      <td>233333.33</td>\n",
       "    </tr>\n",
       "    <tr>\n",
       "      <th>2897</th>\n",
       "      <td>68</td>\n",
       "      <td>2</td>\n",
       "      <td>True</td>\n",
       "      <td>True</td>\n",
       "      <td>True</td>\n",
       "      <td>97666.67</td>\n",
       "    </tr>\n",
       "    <tr>\n",
       "      <th>495</th>\n",
       "      <td>105</td>\n",
       "      <td>2</td>\n",
       "      <td>True</td>\n",
       "      <td>True</td>\n",
       "      <td>True</td>\n",
       "      <td>23000.00</td>\n",
       "    </tr>\n",
       "    <tr>\n",
       "      <th>2650</th>\n",
       "      <td>51</td>\n",
       "      <td>1</td>\n",
       "      <td>True</td>\n",
       "      <td>True</td>\n",
       "      <td>False</td>\n",
       "      <td>22333.33</td>\n",
       "    </tr>\n",
       "    <tr>\n",
       "      <th>425</th>\n",
       "      <td>120</td>\n",
       "      <td>2</td>\n",
       "      <td>True</td>\n",
       "      <td>True</td>\n",
       "      <td>True</td>\n",
       "      <td>296666.67</td>\n",
       "    </tr>\n",
       "    <tr>\n",
       "      <th>1678</th>\n",
       "      <td>83</td>\n",
       "      <td>2</td>\n",
       "      <td>True</td>\n",
       "      <td>True</td>\n",
       "      <td>True</td>\n",
       "      <td>76666.67</td>\n",
       "    </tr>\n",
       "    <tr>\n",
       "      <th>2369</th>\n",
       "      <td>95</td>\n",
       "      <td>2</td>\n",
       "      <td>True</td>\n",
       "      <td>True</td>\n",
       "      <td>True</td>\n",
       "      <td>326666.67</td>\n",
       "    </tr>\n",
       "  </tbody>\n",
       "</table>\n",
       "</div>"
      ],
      "text/plain": [
       "      Area  Room  Parking  Warehouse  Elevator  Price(USD)\n",
       "1126   105     2     True       True      True    29166.67\n",
       "2524   100     2     True      False      True    30000.00\n",
       "1634    49     1     True       True      True    89800.00\n",
       "1446    90     2     True       True      True   233333.33\n",
       "2897    68     2     True       True      True    97666.67\n",
       "495    105     2     True       True      True    23000.00\n",
       "2650    51     1     True       True     False    22333.33\n",
       "425    120     2     True       True      True   296666.67\n",
       "1678    83     2     True       True      True    76666.67\n",
       "2369    95     2     True       True      True   326666.67"
      ]
     },
     "execution_count": 16,
     "metadata": {},
     "output_type": "execute_result"
    }
   ],
   "source": [
    "df3.sample(10)"
   ]
  },
  {
   "cell_type": "code",
   "execution_count": 17,
   "metadata": {},
   "outputs": [
    {
     "name": "stdout",
     "output_type": "stream",
     "text": [
      "Parking : [ True False]\n",
      "Warehouse : [ True False]\n",
      "Elevator : [ True False]\n"
     ]
    }
   ],
   "source": [
    "for column in df3:\n",
    "    if df3[column].dtypes=='bool':\n",
    "        print(f'{column} : {df3[column].unique()}')"
   ]
  },
  {
   "cell_type": "code",
   "execution_count": 18,
   "metadata": {
    "scrolled": true
   },
   "outputs": [
    {
     "data": {
      "text/html": [
       "<div>\n",
       "<style scoped>\n",
       "    .dataframe tbody tr th:only-of-type {\n",
       "        vertical-align: middle;\n",
       "    }\n",
       "\n",
       "    .dataframe tbody tr th {\n",
       "        vertical-align: top;\n",
       "    }\n",
       "\n",
       "    .dataframe thead th {\n",
       "        text-align: right;\n",
       "    }\n",
       "</style>\n",
       "<table border=\"1\" class=\"dataframe\">\n",
       "  <thead>\n",
       "    <tr style=\"text-align: right;\">\n",
       "      <th></th>\n",
       "      <th>Area</th>\n",
       "      <th>Room</th>\n",
       "      <th>Parking</th>\n",
       "      <th>Warehouse</th>\n",
       "      <th>Elevator</th>\n",
       "      <th>Price(USD)</th>\n",
       "    </tr>\n",
       "  </thead>\n",
       "  <tbody>\n",
       "    <tr>\n",
       "      <th>0</th>\n",
       "      <td>63</td>\n",
       "      <td>1</td>\n",
       "      <td>1.0</td>\n",
       "      <td>1.0</td>\n",
       "      <td>1.0</td>\n",
       "      <td>61666.67</td>\n",
       "    </tr>\n",
       "    <tr>\n",
       "      <th>1</th>\n",
       "      <td>60</td>\n",
       "      <td>1</td>\n",
       "      <td>1.0</td>\n",
       "      <td>1.0</td>\n",
       "      <td>1.0</td>\n",
       "      <td>61666.67</td>\n",
       "    </tr>\n",
       "    <tr>\n",
       "      <th>2</th>\n",
       "      <td>79</td>\n",
       "      <td>2</td>\n",
       "      <td>1.0</td>\n",
       "      <td>1.0</td>\n",
       "      <td>1.0</td>\n",
       "      <td>18333.33</td>\n",
       "    </tr>\n",
       "    <tr>\n",
       "      <th>3</th>\n",
       "      <td>95</td>\n",
       "      <td>2</td>\n",
       "      <td>1.0</td>\n",
       "      <td>1.0</td>\n",
       "      <td>1.0</td>\n",
       "      <td>30083.33</td>\n",
       "    </tr>\n",
       "    <tr>\n",
       "      <th>4</th>\n",
       "      <td>123</td>\n",
       "      <td>2</td>\n",
       "      <td>1.0</td>\n",
       "      <td>1.0</td>\n",
       "      <td>1.0</td>\n",
       "      <td>233333.33</td>\n",
       "    </tr>\n",
       "  </tbody>\n",
       "</table>\n",
       "</div>"
      ],
      "text/plain": [
       "   Area  Room  Parking  Warehouse  Elevator  Price(USD)\n",
       "0    63     1      1.0        1.0       1.0    61666.67\n",
       "1    60     1      1.0        1.0       1.0    61666.67\n",
       "2    79     2      1.0        1.0       1.0    18333.33\n",
       "3    95     2      1.0        1.0       1.0    30083.33\n",
       "4   123     2      1.0        1.0       1.0   233333.33"
      ]
     },
     "execution_count": 18,
     "metadata": {},
     "output_type": "execute_result"
    }
   ],
   "source": [
    "df3.replace(True, int(1), inplace=True)\n",
    "df3.replace(False, int(0), inplace=True)\n",
    "df3.head()"
   ]
  },
  {
   "cell_type": "markdown",
   "metadata": {},
   "source": [
    "<h3>2. Feature Scaling</h3>"
   ]
  },
  {
   "cell_type": "code",
   "execution_count": 19,
   "metadata": {},
   "outputs": [
    {
     "data": {
      "text/plain": [
       "<AxesSubplot:xlabel='Price(USD)', ylabel='Density'>"
      ]
     },
     "execution_count": 19,
     "metadata": {},
     "output_type": "execute_result"
    },
    {
     "data": {
      "image/png": "[encoded data removed]",
      "text/plain": [
       "<Figure size 576x432 with 1 Axes>"
      ]
     },
     "metadata": {
      "needs_background": "light"
     },
     "output_type": "display_data"
    }
   ],
   "source": [
    "plt.figure(figsize=(8,6))\n",
    "sns.distplot(df3['Price(USD)'])"
   ]
  },
  {
   "cell_type": "code",
   "execution_count": 20,
   "metadata": {},
   "outputs": [
    {
     "data": {
      "text/html": [
       "<div>\n",
       "<style scoped>\n",
       "    .dataframe tbody tr th:only-of-type {\n",
       "        vertical-align: middle;\n",
       "    }\n",
       "\n",
       "    .dataframe tbody tr th {\n",
       "        vertical-align: top;\n",
       "    }\n",
       "\n",
       "    .dataframe thead th {\n",
       "        text-align: right;\n",
       "    }\n",
       "</style>\n",
       "<table border=\"1\" class=\"dataframe\">\n",
       "  <thead>\n",
       "    <tr style=\"text-align: right;\">\n",
       "      <th></th>\n",
       "      <th>Area</th>\n",
       "      <th>Room</th>\n",
       "      <th>Parking</th>\n",
       "      <th>Warehouse</th>\n",
       "      <th>Elevator</th>\n",
       "      <th>Price(USD)</th>\n",
       "      <th>log10_Price(USD)</th>\n",
       "    </tr>\n",
       "  </thead>\n",
       "  <tbody>\n",
       "    <tr>\n",
       "      <th>0</th>\n",
       "      <td>63</td>\n",
       "      <td>1</td>\n",
       "      <td>1.0</td>\n",
       "      <td>1.0</td>\n",
       "      <td>1.0</td>\n",
       "      <td>61666.67</td>\n",
       "      <td>4.790050</td>\n",
       "    </tr>\n",
       "    <tr>\n",
       "      <th>1</th>\n",
       "      <td>60</td>\n",
       "      <td>1</td>\n",
       "      <td>1.0</td>\n",
       "      <td>1.0</td>\n",
       "      <td>1.0</td>\n",
       "      <td>61666.67</td>\n",
       "      <td>4.790050</td>\n",
       "    </tr>\n",
       "    <tr>\n",
       "      <th>2</th>\n",
       "      <td>79</td>\n",
       "      <td>2</td>\n",
       "      <td>1.0</td>\n",
       "      <td>1.0</td>\n",
       "      <td>1.0</td>\n",
       "      <td>18333.33</td>\n",
       "      <td>4.263241</td>\n",
       "    </tr>\n",
       "    <tr>\n",
       "      <th>3</th>\n",
       "      <td>95</td>\n",
       "      <td>2</td>\n",
       "      <td>1.0</td>\n",
       "      <td>1.0</td>\n",
       "      <td>1.0</td>\n",
       "      <td>30083.33</td>\n",
       "      <td>4.478326</td>\n",
       "    </tr>\n",
       "    <tr>\n",
       "      <th>4</th>\n",
       "      <td>123</td>\n",
       "      <td>2</td>\n",
       "      <td>1.0</td>\n",
       "      <td>1.0</td>\n",
       "      <td>1.0</td>\n",
       "      <td>233333.33</td>\n",
       "      <td>5.367977</td>\n",
       "    </tr>\n",
       "  </tbody>\n",
       "</table>\n",
       "</div>"
      ],
      "text/plain": [
       "   Area  Room  Parking  Warehouse  Elevator  Price(USD)  log10_Price(USD)\n",
       "0    63     1      1.0        1.0       1.0    61666.67          4.790050\n",
       "1    60     1      1.0        1.0       1.0    61666.67          4.790050\n",
       "2    79     2      1.0        1.0       1.0    18333.33          4.263241\n",
       "3    95     2      1.0        1.0       1.0    30083.33          4.478326\n",
       "4   123     2      1.0        1.0       1.0   233333.33          5.367977"
      ]
     },
     "execution_count": 20,
     "metadata": {},
     "output_type": "execute_result"
    }
   ],
   "source": [
    "df3['log10_Price(USD)'] = df3['Price(USD)'].apply(np.log10)\n",
    "df3.head()"
   ]
  },
  {
   "cell_type": "code",
   "execution_count": 21,
   "metadata": {},
   "outputs": [
    {
     "data": {
      "text/plain": [
       "<AxesSubplot:xlabel='log10_Price(USD)', ylabel='Density'>"
      ]
     },
     "execution_count": 21,
     "metadata": {},
     "output_type": "execute_result"
    },
    {
     "data": {
      "image/png": "[encoded data removed]",
      "text/plain": [
       "<Figure size 576x432 with 1 Axes>"
      ]
     },
     "metadata": {
      "needs_background": "light"
     },
     "output_type": "display_data"
    }
   ],
   "source": [
    "plt.figure(figsize=(8,6))\n",
    "sns.distplot(df3['log10_Price(USD)'])"
   ]
  },
  {
   "cell_type": "code",
   "execution_count": 22,
   "metadata": {},
   "outputs": [
    {
     "data": {
      "text/plain": [
       "<AxesSubplot:xlabel='Room', ylabel='log10_Price(USD)'>"
      ]
     },
     "execution_count": 22,
     "metadata": {},
     "output_type": "execute_result"
    },
    {
     "data": {
      "image/png": "[encoded data removed]",
      "text/plain": [
       "<Figure size 576x432 with 1 Axes>"
      ]
     },
     "metadata": {
      "needs_background": "light"
     },
     "output_type": "display_data"
    }
   ],
   "source": [
    "plt.figure(figsize=(8,6))\n",
    "sns.scatterplot(x='Room', y='log10_Price(USD)', data=df3)"
   ]
  },
  {
   "cell_type": "code",
   "execution_count": 23,
   "metadata": {},
   "outputs": [
    {
     "data": {
      "text/plain": [
       "10"
      ]
     },
     "execution_count": 23,
     "metadata": {},
     "output_type": "execute_result"
    }
   ],
   "source": [
    "len(df3[df3['Room']==0])"
   ]
  },
  {
   "cell_type": "code",
   "execution_count": 24,
   "metadata": {},
   "outputs": [
    {
     "data": {
      "text/plain": [
       "(3463, 7)"
      ]
     },
     "execution_count": 24,
     "metadata": {},
     "output_type": "execute_result"
    }
   ],
   "source": [
    "df4 = df3.drop(df3[df3['Room']==0].index,axis=0)\n",
    "df4.shape"
   ]
  },
  {
   "cell_type": "code",
   "execution_count": 25,
   "metadata": {},
   "outputs": [
    {
     "data": {
      "text/plain": [
       "<AxesSubplot:xlabel='Room', ylabel='log10_Price(USD)'>"
      ]
     },
     "execution_count": 25,
     "metadata": {},
     "output_type": "execute_result"
    },
    {
     "data": {
      "image/png": "[encoded data removed]",
      "text/plain": [
       "<Figure size 576x432 with 1 Axes>"
      ]
     },
     "metadata": {
      "needs_background": "light"
     },
     "output_type": "display_data"
    }
   ],
   "source": [
    "plt.figure(figsize=(8,6))\n",
    "sns.scatterplot(x='Room', y='log10_Price(USD)', data=df4)"
   ]
  },
  {
   "cell_type": "markdown",
   "metadata": {},
   "source": [
    "<h3>3. Removing and Detecting Outliers</h3>\n",
    "<br/>\n",
    "I make a new column that contains square foot that is area devide by rooms. And i added warehouse and parking because i think that includes rooms too."
   ]
  },
  {
   "cell_type": "code",
   "execution_count": 26,
   "metadata": {},
   "outputs": [
    {
     "data": {
      "text/html": [
       "<div>\n",
       "<style scoped>\n",
       "    .dataframe tbody tr th:only-of-type {\n",
       "        vertical-align: middle;\n",
       "    }\n",
       "\n",
       "    .dataframe tbody tr th {\n",
       "        vertical-align: top;\n",
       "    }\n",
       "\n",
       "    .dataframe thead th {\n",
       "        text-align: right;\n",
       "    }\n",
       "</style>\n",
       "<table border=\"1\" class=\"dataframe\">\n",
       "  <thead>\n",
       "    <tr style=\"text-align: right;\">\n",
       "      <th></th>\n",
       "      <th>Area</th>\n",
       "      <th>Room</th>\n",
       "      <th>Parking</th>\n",
       "      <th>Warehouse</th>\n",
       "      <th>Elevator</th>\n",
       "      <th>Price(USD)</th>\n",
       "      <th>log10_Price(USD)</th>\n",
       "      <th>sqft</th>\n",
       "    </tr>\n",
       "  </thead>\n",
       "  <tbody>\n",
       "    <tr>\n",
       "      <th>0</th>\n",
       "      <td>63</td>\n",
       "      <td>1</td>\n",
       "      <td>1.0</td>\n",
       "      <td>1.0</td>\n",
       "      <td>1.0</td>\n",
       "      <td>61666.67</td>\n",
       "      <td>4.790050</td>\n",
       "      <td>21.00</td>\n",
       "    </tr>\n",
       "    <tr>\n",
       "      <th>1</th>\n",
       "      <td>60</td>\n",
       "      <td>1</td>\n",
       "      <td>1.0</td>\n",
       "      <td>1.0</td>\n",
       "      <td>1.0</td>\n",
       "      <td>61666.67</td>\n",
       "      <td>4.790050</td>\n",
       "      <td>20.00</td>\n",
       "    </tr>\n",
       "    <tr>\n",
       "      <th>2</th>\n",
       "      <td>79</td>\n",
       "      <td>2</td>\n",
       "      <td>1.0</td>\n",
       "      <td>1.0</td>\n",
       "      <td>1.0</td>\n",
       "      <td>18333.33</td>\n",
       "      <td>4.263241</td>\n",
       "      <td>19.75</td>\n",
       "    </tr>\n",
       "    <tr>\n",
       "      <th>3</th>\n",
       "      <td>95</td>\n",
       "      <td>2</td>\n",
       "      <td>1.0</td>\n",
       "      <td>1.0</td>\n",
       "      <td>1.0</td>\n",
       "      <td>30083.33</td>\n",
       "      <td>4.478326</td>\n",
       "      <td>23.75</td>\n",
       "    </tr>\n",
       "    <tr>\n",
       "      <th>4</th>\n",
       "      <td>123</td>\n",
       "      <td>2</td>\n",
       "      <td>1.0</td>\n",
       "      <td>1.0</td>\n",
       "      <td>1.0</td>\n",
       "      <td>233333.33</td>\n",
       "      <td>5.367977</td>\n",
       "      <td>30.75</td>\n",
       "    </tr>\n",
       "  </tbody>\n",
       "</table>\n",
       "</div>"
      ],
      "text/plain": [
       "   Area  Room  Parking  Warehouse  Elevator  Price(USD)  log10_Price(USD)  \\\n",
       "0    63     1      1.0        1.0       1.0    61666.67          4.790050   \n",
       "1    60     1      1.0        1.0       1.0    61666.67          4.790050   \n",
       "2    79     2      1.0        1.0       1.0    18333.33          4.263241   \n",
       "3    95     2      1.0        1.0       1.0    30083.33          4.478326   \n",
       "4   123     2      1.0        1.0       1.0   233333.33          5.367977   \n",
       "\n",
       "    sqft  \n",
       "0  21.00  \n",
       "1  20.00  \n",
       "2  19.75  \n",
       "3  23.75  \n",
       "4  30.75  "
      ]
     },
     "execution_count": 26,
     "metadata": {},
     "output_type": "execute_result"
    }
   ],
   "source": [
    "df4['sqft'] = df4['Area'] / (df4['Room']+df4['Parking']+df4['Warehouse'])\n",
    "df4.head()"
   ]
  },
  {
   "cell_type": "code",
   "execution_count": 27,
   "metadata": {},
   "outputs": [
    {
     "data": {
      "text/plain": [
       "count    3463.000000\n",
       "mean       27.657421\n",
       "std        14.673211\n",
       "min        10.833333\n",
       "25%        20.500000\n",
       "50%        24.600000\n",
       "75%        30.000000\n",
       "max       300.000000\n",
       "Name: sqft, dtype: float64"
      ]
     },
     "execution_count": 27,
     "metadata": {},
     "output_type": "execute_result"
    }
   ],
   "source": [
    "df4['sqft'].describe()"
   ]
  },
  {
   "cell_type": "code",
   "execution_count": 28,
   "metadata": {},
   "outputs": [
    {
     "name": "stdout",
     "output_type": "stream",
     "text": [
      "6.25\n",
      "44.25\n"
     ]
    }
   ],
   "source": [
    "IQR = np.percentile(df4['sqft'], 75) - np.percentile(df4['sqft'], 25)\n",
    "lower_limit = np.percentile(df4['sqft'], 25) - (1.5 * IQR)\n",
    "upper_limit = np.percentile(df4['sqft'], 75) + (1.5 * IQR)\n",
    "print(lower_limit)\n",
    "print(upper_limit)"
   ]
  },
  {
   "cell_type": "markdown",
   "metadata": {},
   "source": [
    "In this case i used IQR for detect outliers."
   ]
  },
  {
   "cell_type": "code",
   "execution_count": 29,
   "metadata": {},
   "outputs": [
    {
     "data": {
      "text/plain": [
       "0"
      ]
     },
     "execution_count": 29,
     "metadata": {},
     "output_type": "execute_result"
    }
   ],
   "source": [
    "len(df4[df4['sqft']<lower_limit])"
   ]
  },
  {
   "cell_type": "code",
   "execution_count": 30,
   "metadata": {},
   "outputs": [
    {
     "data": {
      "text/plain": [
       "235"
      ]
     },
     "execution_count": 30,
     "metadata": {},
     "output_type": "execute_result"
    }
   ],
   "source": [
    "len(df4[df4['sqft']>upper_limit])"
   ]
  },
  {
   "cell_type": "code",
   "execution_count": 31,
   "metadata": {},
   "outputs": [
    {
     "data": {
      "text/plain": [
       "(3463, 8)"
      ]
     },
     "execution_count": 31,
     "metadata": {},
     "output_type": "execute_result"
    }
   ],
   "source": [
    "df4.shape"
   ]
  },
  {
   "cell_type": "code",
   "execution_count": 32,
   "metadata": {},
   "outputs": [
    {
     "data": {
      "text/plain": [
       "(3228, 8)"
      ]
     },
     "execution_count": 32,
     "metadata": {},
     "output_type": "execute_result"
    }
   ],
   "source": [
    "df5 = df4.drop(df4[df4['sqft']>upper_limit].index, axis=0)\n",
    "df5.shape"
   ]
  },
  {
   "cell_type": "markdown",
   "metadata": {},
   "source": [
    "<h3>4. Modeling </h3>"
   ]
  },
  {
   "cell_type": "code",
   "execution_count": 33,
   "metadata": {},
   "outputs": [
    {
     "data": {
      "text/html": [
       "<div>\n",
       "<style scoped>\n",
       "    .dataframe tbody tr th:only-of-type {\n",
       "        vertical-align: middle;\n",
       "    }\n",
       "\n",
       "    .dataframe tbody tr th {\n",
       "        vertical-align: top;\n",
       "    }\n",
       "\n",
       "    .dataframe thead th {\n",
       "        text-align: right;\n",
       "    }\n",
       "</style>\n",
       "<table border=\"1\" class=\"dataframe\">\n",
       "  <thead>\n",
       "    <tr style=\"text-align: right;\">\n",
       "      <th></th>\n",
       "      <th>Area</th>\n",
       "      <th>Room</th>\n",
       "      <th>Parking</th>\n",
       "      <th>Warehouse</th>\n",
       "      <th>Elevator</th>\n",
       "      <th>Price(USD)</th>\n",
       "      <th>log10_Price(USD)</th>\n",
       "      <th>sqft</th>\n",
       "    </tr>\n",
       "  </thead>\n",
       "  <tbody>\n",
       "    <tr>\n",
       "      <th>550</th>\n",
       "      <td>70</td>\n",
       "      <td>2</td>\n",
       "      <td>1.0</td>\n",
       "      <td>1.0</td>\n",
       "      <td>1.0</td>\n",
       "      <td>93333.33</td>\n",
       "      <td>4.970037</td>\n",
       "      <td>17.500000</td>\n",
       "    </tr>\n",
       "    <tr>\n",
       "      <th>1016</th>\n",
       "      <td>57</td>\n",
       "      <td>1</td>\n",
       "      <td>1.0</td>\n",
       "      <td>1.0</td>\n",
       "      <td>1.0</td>\n",
       "      <td>53333.33</td>\n",
       "      <td>4.726999</td>\n",
       "      <td>19.000000</td>\n",
       "    </tr>\n",
       "    <tr>\n",
       "      <th>1020</th>\n",
       "      <td>50</td>\n",
       "      <td>1</td>\n",
       "      <td>1.0</td>\n",
       "      <td>1.0</td>\n",
       "      <td>1.0</td>\n",
       "      <td>66000.00</td>\n",
       "      <td>4.819544</td>\n",
       "      <td>16.666667</td>\n",
       "    </tr>\n",
       "    <tr>\n",
       "      <th>1804</th>\n",
       "      <td>85</td>\n",
       "      <td>2</td>\n",
       "      <td>1.0</td>\n",
       "      <td>0.0</td>\n",
       "      <td>1.0</td>\n",
       "      <td>15666.67</td>\n",
       "      <td>4.194977</td>\n",
       "      <td>28.333333</td>\n",
       "    </tr>\n",
       "    <tr>\n",
       "      <th>2849</th>\n",
       "      <td>47</td>\n",
       "      <td>1</td>\n",
       "      <td>0.0</td>\n",
       "      <td>1.0</td>\n",
       "      <td>0.0</td>\n",
       "      <td>26666.67</td>\n",
       "      <td>4.425969</td>\n",
       "      <td>23.500000</td>\n",
       "    </tr>\n",
       "  </tbody>\n",
       "</table>\n",
       "</div>"
      ],
      "text/plain": [
       "      Area  Room  Parking  Warehouse  Elevator  Price(USD)  log10_Price(USD)  \\\n",
       "550     70     2      1.0        1.0       1.0    93333.33          4.970037   \n",
       "1016    57     1      1.0        1.0       1.0    53333.33          4.726999   \n",
       "1020    50     1      1.0        1.0       1.0    66000.00          4.819544   \n",
       "1804    85     2      1.0        0.0       1.0    15666.67          4.194977   \n",
       "2849    47     1      0.0        1.0       0.0    26666.67          4.425969   \n",
       "\n",
       "           sqft  \n",
       "550   17.500000  \n",
       "1016  19.000000  \n",
       "1020  16.666667  \n",
       "1804  28.333333  \n",
       "2849  23.500000  "
      ]
     },
     "execution_count": 33,
     "metadata": {},
     "output_type": "execute_result"
    }
   ],
   "source": [
    "df5.sample(5)"
   ]
  },
  {
   "cell_type": "code",
   "execution_count": 34,
   "metadata": {},
   "outputs": [
    {
     "data": {
      "text/html": [
       "<div>\n",
       "<style scoped>\n",
       "    .dataframe tbody tr th:only-of-type {\n",
       "        vertical-align: middle;\n",
       "    }\n",
       "\n",
       "    .dataframe tbody tr th {\n",
       "        vertical-align: top;\n",
       "    }\n",
       "\n",
       "    .dataframe thead th {\n",
       "        text-align: right;\n",
       "    }\n",
       "</style>\n",
       "<table border=\"1\" class=\"dataframe\">\n",
       "  <thead>\n",
       "    <tr style=\"text-align: right;\">\n",
       "      <th></th>\n",
       "      <th>Area</th>\n",
       "      <th>Room</th>\n",
       "      <th>Parking</th>\n",
       "      <th>Warehouse</th>\n",
       "      <th>Elevator</th>\n",
       "      <th>log10_Price(USD)</th>\n",
       "    </tr>\n",
       "  </thead>\n",
       "  <tbody>\n",
       "    <tr>\n",
       "      <th>2503</th>\n",
       "      <td>83</td>\n",
       "      <td>2</td>\n",
       "      <td>1.0</td>\n",
       "      <td>1.0</td>\n",
       "      <td>1.0</td>\n",
       "      <td>4.696065</td>\n",
       "    </tr>\n",
       "    <tr>\n",
       "      <th>2989</th>\n",
       "      <td>60</td>\n",
       "      <td>1</td>\n",
       "      <td>1.0</td>\n",
       "      <td>1.0</td>\n",
       "      <td>0.0</td>\n",
       "      <td>4.954243</td>\n",
       "    </tr>\n",
       "    <tr>\n",
       "      <th>2002</th>\n",
       "      <td>203</td>\n",
       "      <td>3</td>\n",
       "      <td>1.0</td>\n",
       "      <td>1.0</td>\n",
       "      <td>1.0</td>\n",
       "      <td>5.662758</td>\n",
       "    </tr>\n",
       "    <tr>\n",
       "      <th>753</th>\n",
       "      <td>175</td>\n",
       "      <td>3</td>\n",
       "      <td>1.0</td>\n",
       "      <td>1.0</td>\n",
       "      <td>1.0</td>\n",
       "      <td>5.498311</td>\n",
       "    </tr>\n",
       "    <tr>\n",
       "      <th>316</th>\n",
       "      <td>135</td>\n",
       "      <td>2</td>\n",
       "      <td>1.0</td>\n",
       "      <td>1.0</td>\n",
       "      <td>1.0</td>\n",
       "      <td>5.765917</td>\n",
       "    </tr>\n",
       "  </tbody>\n",
       "</table>\n",
       "</div>"
      ],
      "text/plain": [
       "      Area  Room  Parking  Warehouse  Elevator  log10_Price(USD)\n",
       "2503    83     2      1.0        1.0       1.0          4.696065\n",
       "2989    60     1      1.0        1.0       0.0          4.954243\n",
       "2002   203     3      1.0        1.0       1.0          5.662758\n",
       "753    175     3      1.0        1.0       1.0          5.498311\n",
       "316    135     2      1.0        1.0       1.0          5.765917"
      ]
     },
     "execution_count": 34,
     "metadata": {},
     "output_type": "execute_result"
    }
   ],
   "source": [
    "df6 = df5.drop(['Price(USD)','sqft'],axis='columns')\n",
    "df6.sample(5)"
   ]
  },
  {
   "cell_type": "code",
   "execution_count": 35,
   "metadata": {},
   "outputs": [],
   "source": [
    "df6.Parking = df6.Parking.astype(int)\n",
    "df6.Warehouse = df6.Warehouse.astype(int)\n",
    "df6.Elevator = df6.Elevator.astype(int)"
   ]
  },
  {
   "cell_type": "code",
   "execution_count": 36,
   "metadata": {},
   "outputs": [
    {
     "data": {
      "text/plain": [
       "Area                  int64\n",
       "Room                  int64\n",
       "Parking               int32\n",
       "Warehouse             int32\n",
       "Elevator              int32\n",
       "log10_Price(USD)    float64\n",
       "dtype: object"
      ]
     },
     "execution_count": 36,
     "metadata": {},
     "output_type": "execute_result"
    }
   ],
   "source": [
    "df6.dtypes"
   ]
  },
  {
   "cell_type": "code",
   "execution_count": 37,
   "metadata": {},
   "outputs": [],
   "source": [
    "x = df6.drop(['log10_Price(USD)'], axis='columns')\n",
    "y = df6['log10_Price(USD)']"
   ]
  },
  {
   "cell_type": "code",
   "execution_count": 38,
   "metadata": {},
   "outputs": [],
   "source": [
    "from sklearn.model_selection import train_test_split\n",
    "X_train, X_test, y_train, y_test = train_test_split(x,y,test_size=0.2,random_state=5)"
   ]
  },
  {
   "cell_type": "code",
   "execution_count": 39,
   "metadata": {},
   "outputs": [
    {
     "data": {
      "text/plain": [
       "(2582, 5)"
      ]
     },
     "execution_count": 39,
     "metadata": {},
     "output_type": "execute_result"
    }
   ],
   "source": [
    "X_train.shape"
   ]
  },
  {
   "cell_type": "code",
   "execution_count": 40,
   "metadata": {},
   "outputs": [],
   "source": [
    "import tensorflow as tf\n",
    "from tensorflow import keras\n",
    "\n",
    "model = keras.Sequential([\n",
    "    keras.layers.Dense(60, input_shape=(5,), activation='relu'),\n",
    "    keras.layers.Dense(60, activation='relu'),\n",
    "    keras.layers.Dense(60, activation='relu'),\n",
    "    keras.layers.Dense(1)\n",
    "])\n",
    "\n",
    "model.compile(optimizer='adam',\n",
    "             loss='mean_absolute_error')"
   ]
  },
  {
   "cell_type": "code",
   "execution_count": 41,
   "metadata": {},
   "outputs": [
    {
     "name": "stdout",
     "output_type": "stream",
     "text": [
      "Epoch 1/150\n",
      "81/81 [==============================] - 7s 3ms/step - loss: 1.3521\n",
      "Epoch 2/150\n",
      "81/81 [==============================] - 0s 2ms/step - loss: 0.9956\n",
      "Epoch 3/150\n",
      "81/81 [==============================] - 0s 1ms/step - loss: 0.5943\n",
      "Epoch 4/150\n",
      "81/81 [==============================] - 0s 2ms/step - loss: 0.4655\n",
      "Epoch 5/150\n",
      "81/81 [==============================] - 0s 1ms/step - loss: 0.3868\n",
      "Epoch 6/150\n",
      "81/81 [==============================] - 0s 1ms/step - loss: 0.4119\n",
      "Epoch 7/150\n",
      "81/81 [==============================] - 0s 1ms/step - loss: 0.3231\n",
      "Epoch 8/150\n",
      "81/81 [==============================] - 0s 1ms/step - loss: 0.3057\n",
      "Epoch 9/150\n",
      "81/81 [==============================] - 0s 2ms/step - loss: 0.2854\n",
      "Epoch 10/150\n",
      "81/81 [==============================] - 0s 2ms/step - loss: 0.3250\n",
      "Epoch 11/150\n",
      "81/81 [==============================] - 0s 2ms/step - loss: 0.3479\n",
      "Epoch 12/150\n",
      "81/81 [==============================] - 0s 2ms/step - loss: 0.2902\n",
      "Epoch 13/150\n",
      "81/81 [==============================] - 0s 2ms/step - loss: 0.2894\n",
      "Epoch 14/150\n",
      "81/81 [==============================] - 0s 1ms/step - loss: 0.2632\n",
      "Epoch 15/150\n",
      "81/81 [==============================] - 0s 1ms/step - loss: 0.2784\n",
      "Epoch 16/150\n",
      "81/81 [==============================] - 0s 1ms/step - loss: 0.2510\n",
      "Epoch 17/150\n",
      "81/81 [==============================] - 0s 1ms/step - loss: 0.2815\n",
      "Epoch 18/150\n",
      "81/81 [==============================] - 0s 1ms/step - loss: 0.2676\n",
      "Epoch 19/150\n",
      "81/81 [==============================] - 0s 2ms/step - loss: 0.2603\n",
      "Epoch 20/150\n",
      "81/81 [==============================] - 0s 2ms/step - loss: 0.2638\n",
      "Epoch 21/150\n",
      "81/81 [==============================] - 0s 1ms/step - loss: 0.3014\n",
      "Epoch 22/150\n",
      "81/81 [==============================] - 0s 2ms/step - loss: 0.2666\n",
      "Epoch 23/150\n",
      "81/81 [==============================] - 0s 2ms/step - loss: 0.2611\n",
      "Epoch 24/150\n",
      "81/81 [==============================] - 0s 2ms/step - loss: 0.2592\n",
      "Epoch 25/150\n",
      "81/81 [==============================] - 0s 2ms/step - loss: 0.2399\n",
      "Epoch 26/150\n",
      "81/81 [==============================] - 0s 2ms/step - loss: 0.2711\n",
      "Epoch 27/150\n",
      "81/81 [==============================] - 0s 2ms/step - loss: 0.2687\n",
      "Epoch 28/150\n",
      "81/81 [==============================] - 0s 1ms/step - loss: 0.2424\n",
      "Epoch 29/150\n",
      "81/81 [==============================] - 0s 2ms/step - loss: 0.2507\n",
      "Epoch 30/150\n",
      "81/81 [==============================] - 0s 2ms/step - loss: 0.2508\n",
      "Epoch 31/150\n",
      "81/81 [==============================] - 0s 2ms/step - loss: 0.2448\n",
      "Epoch 32/150\n",
      "81/81 [==============================] - 0s 2ms/step - loss: 0.2506\n",
      "Epoch 33/150\n",
      "81/81 [==============================] - 0s 1ms/step - loss: 0.2408\n",
      "Epoch 34/150\n",
      "81/81 [==============================] - 0s 2ms/step - loss: 0.2542\n",
      "Epoch 35/150\n",
      "81/81 [==============================] - 0s 2ms/step - loss: 0.2375\n",
      "Epoch 36/150\n",
      "81/81 [==============================] - 0s 1ms/step - loss: 0.2813\n",
      "Epoch 37/150\n",
      "81/81 [==============================] - 0s 1ms/step - loss: 0.2459\n",
      "Epoch 38/150\n",
      "81/81 [==============================] - 0s 2ms/step - loss: 0.2388\n",
      "Epoch 39/150\n",
      "81/81 [==============================] - 0s 1ms/step - loss: 0.2563\n",
      "Epoch 40/150\n",
      "81/81 [==============================] - 0s 2ms/step - loss: 0.2598\n",
      "Epoch 41/150\n",
      "81/81 [==============================] - 0s 2ms/step - loss: 0.2762\n",
      "Epoch 42/150\n",
      "81/81 [==============================] - 0s 2ms/step - loss: 0.2844\n",
      "Epoch 43/150\n",
      "81/81 [==============================] - 0s 1ms/step - loss: 0.2347\n",
      "Epoch 44/150\n",
      "81/81 [==============================] - 0s 2ms/step - loss: 0.2436\n",
      "Epoch 45/150\n",
      "81/81 [==============================] - 0s 2ms/step - loss: 0.2448\n",
      "Epoch 46/150\n",
      "81/81 [==============================] - 0s 1ms/step - loss: 0.2546\n",
      "Epoch 47/150\n",
      "81/81 [==============================] - 0s 1ms/step - loss: 0.2325\n",
      "Epoch 48/150\n",
      "81/81 [==============================] - 0s 2ms/step - loss: 0.2286\n",
      "Epoch 49/150\n",
      "81/81 [==============================] - 0s 1ms/step - loss: 0.2565\n",
      "Epoch 50/150\n",
      "81/81 [==============================] - 0s 1ms/step - loss: 0.2259\n",
      "Epoch 51/150\n",
      "81/81 [==============================] - 0s 1ms/step - loss: 0.2324\n",
      "Epoch 52/150\n",
      "81/81 [==============================] - 0s 2ms/step - loss: 0.2419\n",
      "Epoch 53/150\n",
      "81/81 [==============================] - 0s 2ms/step - loss: 0.2228\n",
      "Epoch 54/150\n",
      "81/81 [==============================] - 0s 1ms/step - loss: 0.2439\n",
      "Epoch 55/150\n",
      "81/81 [==============================] - 0s 1ms/step - loss: 0.2406\n",
      "Epoch 56/150\n",
      "81/81 [==============================] - 0s 1ms/step - loss: 0.2337\n",
      "Epoch 57/150\n",
      "81/81 [==============================] - 0s 1ms/step - loss: 0.2494\n",
      "Epoch 58/150\n",
      "81/81 [==============================] - 0s 1ms/step - loss: 0.2542\n",
      "Epoch 59/150\n",
      "81/81 [==============================] - 0s 1ms/step - loss: 0.2375\n",
      "Epoch 60/150\n",
      "81/81 [==============================] - 0s 1ms/step - loss: 0.2402\n",
      "Epoch 61/150\n",
      "81/81 [==============================] - 0s 1ms/step - loss: 0.2387\n",
      "Epoch 62/150\n",
      "81/81 [==============================] - 0s 2ms/step - loss: 0.2335\n",
      "Epoch 63/150\n",
      "81/81 [==============================] - 0s 1ms/step - loss: 0.2356\n",
      "Epoch 64/150\n",
      "81/81 [==============================] - 0s 2ms/step - loss: 0.2727\n",
      "Epoch 65/150\n",
      "81/81 [==============================] - 0s 2ms/step - loss: 0.2342\n",
      "Epoch 66/150\n",
      "81/81 [==============================] - 0s 1ms/step - loss: 0.2340\n",
      "Epoch 67/150\n",
      "81/81 [==============================] - 0s 3ms/step - loss: 0.2294\n",
      "Epoch 68/150\n",
      "81/81 [==============================] - 0s 2ms/step - loss: 0.2539\n",
      "Epoch 69/150\n",
      "81/81 [==============================] - 0s 2ms/step - loss: 0.2399\n",
      "Epoch 70/150\n",
      "81/81 [==============================] - 0s 2ms/step - loss: 0.2478\n",
      "Epoch 71/150\n",
      "81/81 [==============================] - 0s 2ms/step - loss: 0.2375\n",
      "Epoch 72/150\n",
      "81/81 [==============================] - 0s 2ms/step - loss: 0.2267\n",
      "Epoch 73/150\n",
      "81/81 [==============================] - 0s 2ms/step - loss: 0.2340\n",
      "Epoch 74/150\n",
      "81/81 [==============================] - 0s 2ms/step - loss: 0.2575\n",
      "Epoch 75/150\n",
      "81/81 [==============================] - 0s 2ms/step - loss: 0.2312\n",
      "Epoch 76/150\n",
      "81/81 [==============================] - 0s 2ms/step - loss: 0.2224\n",
      "Epoch 77/150\n",
      "81/81 [==============================] - 0s 2ms/step - loss: 0.2292\n",
      "Epoch 78/150\n",
      "81/81 [==============================] - 0s 2ms/step - loss: 0.2267\n",
      "Epoch 79/150\n",
      "81/81 [==============================] - 0s 2ms/step - loss: 0.2314\n",
      "Epoch 80/150\n",
      "81/81 [==============================] - 0s 2ms/step - loss: 0.2468\n",
      "Epoch 81/150\n",
      "81/81 [==============================] - 0s 2ms/step - loss: 0.2442\n",
      "Epoch 82/150\n",
      "81/81 [==============================] - 0s 2ms/step - loss: 0.2240\n",
      "Epoch 83/150\n",
      "81/81 [==============================] - 0s 2ms/step - loss: 0.2435\n",
      "Epoch 84/150\n",
      "81/81 [==============================] - 0s 2ms/step - loss: 0.2189\n",
      "Epoch 85/150\n",
      "81/81 [==============================] - 0s 2ms/step - loss: 0.2275\n",
      "Epoch 86/150\n",
      "81/81 [==============================] - 0s 2ms/step - loss: 0.2229\n",
      "Epoch 87/150\n",
      "81/81 [==============================] - 0s 2ms/step - loss: 0.2226\n",
      "Epoch 88/150\n",
      "81/81 [==============================] - 0s 2ms/step - loss: 0.2276\n",
      "Epoch 89/150\n",
      "81/81 [==============================] - 0s 2ms/step - loss: 0.2322\n",
      "Epoch 90/150\n",
      "81/81 [==============================] - 0s 2ms/step - loss: 0.2307\n",
      "Epoch 91/150\n",
      "81/81 [==============================] - 0s 2ms/step - loss: 0.2302\n",
      "Epoch 92/150\n",
      "81/81 [==============================] - 0s 1ms/step - loss: 0.2203\n",
      "Epoch 93/150\n",
      "81/81 [==============================] - 0s 1ms/step - loss: 0.2284\n",
      "Epoch 94/150\n",
      "81/81 [==============================] - 0s 1ms/step - loss: 0.2281\n",
      "Epoch 95/150\n",
      "81/81 [==============================] - 0s 1ms/step - loss: 0.2233\n",
      "Epoch 96/150\n",
      "81/81 [==============================] - 0s 1ms/step - loss: 0.2254\n",
      "Epoch 97/150\n",
      "81/81 [==============================] - 0s 1ms/step - loss: 0.2230\n",
      "Epoch 98/150\n",
      "81/81 [==============================] - 0s 1ms/step - loss: 0.2262\n",
      "Epoch 99/150\n",
      "81/81 [==============================] - 0s 1ms/step - loss: 0.2276\n",
      "Epoch 100/150\n",
      "81/81 [==============================] - 0s 1ms/step - loss: 0.2302\n",
      "Epoch 101/150\n",
      "81/81 [==============================] - 0s 1ms/step - loss: 0.2184\n",
      "Epoch 102/150\n"
     ]
    },
    {
     "name": "stdout",
     "output_type": "stream",
     "text": [
      "81/81 [==============================] - 0s 1ms/step - loss: 0.2276\n",
      "Epoch 103/150\n",
      "81/81 [==============================] - 0s 1ms/step - loss: 0.2262\n",
      "Epoch 104/150\n",
      "81/81 [==============================] - 0s 1ms/step - loss: 0.2290\n",
      "Epoch 105/150\n",
      "81/81 [==============================] - 0s 1ms/step - loss: 0.2285\n",
      "Epoch 106/150\n",
      "81/81 [==============================] - 0s 1ms/step - loss: 0.2285\n",
      "Epoch 107/150\n",
      "81/81 [==============================] - 0s 1ms/step - loss: 0.2218\n",
      "Epoch 108/150\n",
      "81/81 [==============================] - 0s 1ms/step - loss: 0.2223\n",
      "Epoch 109/150\n",
      "81/81 [==============================] - 0s 1ms/step - loss: 0.2259\n",
      "Epoch 110/150\n",
      "81/81 [==============================] - 0s 1ms/step - loss: 0.2206\n",
      "Epoch 111/150\n",
      "81/81 [==============================] - 0s 1ms/step - loss: 0.2187\n",
      "Epoch 112/150\n",
      "81/81 [==============================] - 0s 1ms/step - loss: 0.2235\n",
      "Epoch 113/150\n",
      "81/81 [==============================] - 0s 1ms/step - loss: 0.2363\n",
      "Epoch 114/150\n",
      "81/81 [==============================] - 0s 1ms/step - loss: 0.2176\n",
      "Epoch 115/150\n",
      "81/81 [==============================] - 0s 1ms/step - loss: 0.2128\n",
      "Epoch 116/150\n",
      "81/81 [==============================] - 0s 1ms/step - loss: 0.2214\n",
      "Epoch 117/150\n",
      "81/81 [==============================] - 0s 1ms/step - loss: 0.2396\n",
      "Epoch 118/150\n",
      "81/81 [==============================] - 0s 1ms/step - loss: 0.2208\n",
      "Epoch 119/150\n",
      "81/81 [==============================] - 0s 1ms/step - loss: 0.2253\n",
      "Epoch 120/150\n",
      "81/81 [==============================] - 0s 1ms/step - loss: 0.2229\n",
      "Epoch 121/150\n",
      "81/81 [==============================] - 0s 1ms/step - loss: 0.2261\n",
      "Epoch 122/150\n",
      "81/81 [==============================] - 0s 1ms/step - loss: 0.2363\n",
      "Epoch 123/150\n",
      "81/81 [==============================] - 0s 1ms/step - loss: 0.2234\n",
      "Epoch 124/150\n",
      "81/81 [==============================] - 0s 1ms/step - loss: 0.2234\n",
      "Epoch 125/150\n",
      "81/81 [==============================] - 0s 1ms/step - loss: 0.2247\n",
      "Epoch 126/150\n",
      "81/81 [==============================] - 0s 1ms/step - loss: 0.2231\n",
      "Epoch 127/150\n",
      "81/81 [==============================] - 0s 1ms/step - loss: 0.2221\n",
      "Epoch 128/150\n",
      "81/81 [==============================] - 0s 1ms/step - loss: 0.2222\n",
      "Epoch 129/150\n",
      "81/81 [==============================] - 0s 1ms/step - loss: 0.2189\n",
      "Epoch 130/150\n",
      "81/81 [==============================] - 0s 1ms/step - loss: 0.2160\n",
      "Epoch 131/150\n",
      "81/81 [==============================] - 0s 1ms/step - loss: 0.2234\n",
      "Epoch 132/150\n",
      "81/81 [==============================] - 0s 1ms/step - loss: 0.2152\n",
      "Epoch 133/150\n",
      "81/81 [==============================] - 0s 1ms/step - loss: 0.2138\n",
      "Epoch 134/150\n",
      "81/81 [==============================] - 0s 1ms/step - loss: 0.2283\n",
      "Epoch 135/150\n",
      "81/81 [==============================] - 0s 1ms/step - loss: 0.2259\n",
      "Epoch 136/150\n",
      "81/81 [==============================] - 0s 1ms/step - loss: 0.2257\n",
      "Epoch 137/150\n",
      "81/81 [==============================] - 0s 1ms/step - loss: 0.2173\n",
      "Epoch 138/150\n",
      "81/81 [==============================] - 0s 1ms/step - loss: 0.2164\n",
      "Epoch 139/150\n",
      "81/81 [==============================] - 0s 1ms/step - loss: 0.2231\n",
      "Epoch 140/150\n",
      "81/81 [==============================] - 0s 1ms/step - loss: 0.2220\n",
      "Epoch 141/150\n",
      "81/81 [==============================] - 0s 1ms/step - loss: 0.2215\n",
      "Epoch 142/150\n",
      "81/81 [==============================] - 0s 1ms/step - loss: 0.2163\n",
      "Epoch 143/150\n",
      "81/81 [==============================] - 0s 1ms/step - loss: 0.2157\n",
      "Epoch 144/150\n",
      "81/81 [==============================] - 0s 1ms/step - loss: 0.2257\n",
      "Epoch 145/150\n",
      "81/81 [==============================] - 0s 1ms/step - loss: 0.2163\n",
      "Epoch 146/150\n",
      "81/81 [==============================] - 0s 1ms/step - loss: 0.2245\n",
      "Epoch 147/150\n",
      "81/81 [==============================] - 0s 1ms/step - loss: 0.2205\n",
      "Epoch 148/150\n",
      "81/81 [==============================] - 0s 1ms/step - loss: 0.2160\n",
      "Epoch 149/150\n",
      "81/81 [==============================] - 0s 1ms/step - loss: 0.2166\n",
      "Epoch 150/150\n",
      "81/81 [==============================] - 0s 1ms/step - loss: 0.2362\n"
     ]
    },
    {
     "data": {
      "text/plain": [
       "<tensorflow.python.keras.callbacks.History at 0x12cf82eb5b0>"
      ]
     },
     "execution_count": 41,
     "metadata": {},
     "output_type": "execute_result"
    }
   ],
   "source": [
    "model.fit(X_train, y_train, epochs=150)"
   ]
  },
  {
   "cell_type": "code",
   "execution_count": 43,
   "metadata": {},
   "outputs": [
    {
     "name": "stdout",
     "output_type": "stream",
     "text": [
      "21/21 [==============================] - 0s 1ms/step - loss: 0.2239\n"
     ]
    },
    {
     "data": {
      "text/plain": [
       "0.22388502955436707"
      ]
     },
     "execution_count": 43,
     "metadata": {},
     "output_type": "execute_result"
    }
   ],
   "source": [
    "model.evaluate(X_test, y_test)"
   ]
  },
  {
   "cell_type": "code",
   "execution_count": 44,
   "metadata": {},
   "outputs": [],
   "source": [
    "y_predict = model.predict(X_test)"
   ]
  },
  {
   "cell_type": "code",
   "execution_count": 45,
   "metadata": {},
   "outputs": [
    {
     "data": {
      "text/plain": [
       "array([[5.105442],\n",
       "       [4.815155],\n",
       "       [5.105442],\n",
       "       [4.916975],\n",
       "       [4.929348]], dtype=float32)"
      ]
     },
     "execution_count": 45,
     "metadata": {},
     "output_type": "execute_result"
    }
   ],
   "source": [
    "y_predict[:5]"
   ]
  },
  {
   "cell_type": "code",
   "execution_count": 46,
   "metadata": {},
   "outputs": [
    {
     "data": {
      "text/plain": [
       "1047    5.087545\n",
       "648     4.834633\n",
       "362     5.156347\n",
       "1849    4.946125\n",
       "1234    5.156347\n",
       "Name: log10_Price(USD), dtype: float64"
      ]
     },
     "execution_count": 46,
     "metadata": {},
     "output_type": "execute_result"
    }
   ],
   "source": [
    "y_test[:5]"
   ]
  }
 ],
 "metadata": {
  "kernelspec": {
   "display_name": "Python 3",
   "language": "python",
   "name": "python3"
  },
  "language_info": {
   "codemirror_mode": {
    "name": "ipython",
    "version": 3
   },
   "file_extension": ".py",
   "mimetype": "text/x-python",
   "name": "python",
   "nbconvert_exporter": "python",
   "pygments_lexer": "ipython3",
   "version": "3.8.5"
  }
 },
 "nbformat": 4,
 "nbformat_minor": 4
}
