{
 "cells": [
  {
   "cell_type": "markdown",
   "metadata": {},
   "source": [
    "<h1>Image Classification - Covid-19 X-Ray</h1>\n",
    "<br/>\n",
    "<h2>Context</h2>\n",
    "<br/>\n",
    "The Coronavirus Disease 2019 (COVID-19) has brought a worldwide threat to the living society. The whole world is putting incredible efforts to fight against the spread of this deadly disease. Meanwhile, hundreds of machine-learning experts volunteer their time and expertise to help medical researchers in this fight. <br/>\n",
    "<br/>\n",
    "One of the areas where machine learning can help is detecting the COVID-19 cases from chest X-ray images. The task is a simple classification problem where given an input chest X-ray image, the machine learning-based model must detect whether the subject of study has been infected or not.<br/>\n",
    "<h2>Content</h2>\n",
    "<br/>\n",
    "The data consists of 60 X-ray images, which are split into 30 COVID-19 subjects and 30 Normal subjects.<br/>\n",
    "<h2>Acknowledgements</h2>\n",
    "<br/>\n",
    "The University of Montreal for releasing the images. <br/>\n",
    "<br/>\n",
    "<h2>Notes</h2>\n",
    "<i>*Purpose of this project is for my learning only, dataset from:*</i>\n",
    "<a href=\"https://www.kaggle.com/thomasnibb/image-classification-covid19-xray\">Kaggle</a>"
   ]
  },
  {
   "cell_type": "code",
   "execution_count": 1,
   "metadata": {},
   "outputs": [],
   "source": [
    "import matplotlib.pyplot as plt\n",
    "import numpy as np\n",
    "import cv2\n",
    "import os\n",
    "import tensorflow as tf\n",
    "\n",
    "from tensorflow import keras\n",
    "from tensorflow.keras import layers\n",
    "from tensorflow.keras.models import Sequential"
   ]
  },
  {
   "cell_type": "code",
   "execution_count": 2,
   "metadata": {},
   "outputs": [],
   "source": [
    "data_dir ='..\\\\image_classification_covid_19_x-ray\\\\photos'"
   ]
  },
  {
   "cell_type": "code",
   "execution_count": 3,
   "metadata": {},
   "outputs": [
    {
     "data": {
      "text/plain": [
       "WindowsPath('../image_classification_covid_19_x-ray/photos')"
      ]
     },
     "execution_count": 3,
     "metadata": {},
     "output_type": "execute_result"
    }
   ],
   "source": [
    "import pathlib\n",
    "data_dir = pathlib.Path(data_dir)\n",
    "data_dir"
   ]
  },
  {
   "cell_type": "code",
   "execution_count": 4,
   "metadata": {},
   "outputs": [
    {
     "data": {
      "text/plain": [
       "60"
      ]
     },
     "execution_count": 4,
     "metadata": {},
     "output_type": "execute_result"
    }
   ],
   "source": [
    "img_c = len(list(data_dir.glob('*/*.jpg')))\n",
    "img_c"
   ]
  },
  {
   "cell_type": "code",
   "execution_count": 5,
   "metadata": {},
   "outputs": [
    {
     "data": {
      "text/plain": [
       "[WindowsPath('../image_classification_covid_19_x-ray/photos/normal/N1.jpg'),\n",
       " WindowsPath('../image_classification_covid_19_x-ray/photos/normal/N10.jpg'),\n",
       " WindowsPath('../image_classification_covid_19_x-ray/photos/normal/N11.jpg'),\n",
       " WindowsPath('../image_classification_covid_19_x-ray/photos/normal/N12.jpg'),\n",
       " WindowsPath('../image_classification_covid_19_x-ray/photos/normal/N13.jpg')]"
      ]
     },
     "execution_count": 5,
     "metadata": {},
     "output_type": "execute_result"
    }
   ],
   "source": [
    "normal = list(data_dir.glob('normal/*'))\n",
    "normal[:5]"
   ]
  },
  {
   "cell_type": "code",
   "execution_count": 6,
   "metadata": {},
   "outputs": [],
   "source": [
    "images_dict = {\n",
    "    'normal': list(data_dir.glob('normal/*')),\n",
    "    'covid19': list(data_dir.glob('covid19/*'))\n",
    "}"
   ]
  },
  {
   "cell_type": "code",
   "execution_count": 7,
   "metadata": {},
   "outputs": [],
   "source": [
    "images_lab = {\n",
    "    'normal': 1,\n",
    "    'covid19': 0\n",
    "}"
   ]
  },
  {
   "cell_type": "code",
   "execution_count": 8,
   "metadata": {},
   "outputs": [
    {
     "data": {
      "text/plain": [
       "(1708, 1944, 3)"
      ]
     },
     "execution_count": 8,
     "metadata": {},
     "output_type": "execute_result"
    }
   ],
   "source": [
    "img = cv2.imread(str(images_dict['normal'][0]))\n",
    "img.shape"
   ]
  },
  {
   "cell_type": "code",
   "execution_count": 9,
   "metadata": {},
   "outputs": [
    {
     "data": {
      "text/plain": [
       "(180, 180, 3)"
      ]
     },
     "execution_count": 9,
     "metadata": {},
     "output_type": "execute_result"
    }
   ],
   "source": [
    "cv2.resize(img, (180,180)).shape"
   ]
  },
  {
   "cell_type": "code",
   "execution_count": 10,
   "metadata": {},
   "outputs": [],
   "source": [
    "X, y = [], []\n",
    "\n",
    "for photos_name, images in images_dict.items():\n",
    "    for image in images:\n",
    "        img = cv2.imread(str(image))\n",
    "        resized_img = cv2.resize(img,(180,180))\n",
    "        X.append(resized_img)\n",
    "        y.append(images_lab[photos_name])"
   ]
  },
  {
   "cell_type": "code",
   "execution_count": 11,
   "metadata": {},
   "outputs": [
    {
     "data": {
      "text/plain": [
       "array([[[ 20,  20,  20],\n",
       "        [ 23,  23,  23],\n",
       "        [ 25,  25,  25],\n",
       "        ...,\n",
       "        [122, 122, 122],\n",
       "        [ 96,  96,  96],\n",
       "        [ 88,  88,  88]],\n",
       "\n",
       "       [[ 19,  19,  19],\n",
       "        [ 26,  26,  26],\n",
       "        [ 24,  24,  24],\n",
       "        ...,\n",
       "        [116, 116, 116],\n",
       "        [ 95,  95,  95],\n",
       "        [ 82,  82,  82]],\n",
       "\n",
       "       [[ 18,  18,  18],\n",
       "        [ 23,  23,  23],\n",
       "        [ 26,  26,  26],\n",
       "        ...,\n",
       "        [106, 106, 106],\n",
       "        [ 87,  87,  87],\n",
       "        [ 94,  94,  94]],\n",
       "\n",
       "       ...,\n",
       "\n",
       "       [[  0,   0,   0],\n",
       "        [  0,   0,   0],\n",
       "        [  0,   0,   0],\n",
       "        ...,\n",
       "        [  6,   6,   6],\n",
       "        [  6,   6,   6],\n",
       "        [  6,   6,   6]],\n",
       "\n",
       "       [[  0,   0,   0],\n",
       "        [  0,   0,   0],\n",
       "        [  0,   0,   0],\n",
       "        ...,\n",
       "        [  5,   5,   5],\n",
       "        [  6,   6,   6],\n",
       "        [  6,   6,   6]],\n",
       "\n",
       "       [[  0,   0,   0],\n",
       "        [  0,   0,   0],\n",
       "        [  0,   0,   0],\n",
       "        ...,\n",
       "        [  6,   6,   6],\n",
       "        [  6,   6,   6],\n",
       "        [  5,   5,   5]]], dtype=uint8)"
      ]
     },
     "execution_count": 11,
     "metadata": {},
     "output_type": "execute_result"
    }
   ],
   "source": [
    "X[0]"
   ]
  },
  {
   "cell_type": "code",
   "execution_count": 12,
   "metadata": {},
   "outputs": [
    {
     "data": {
      "text/plain": [
       "1"
      ]
     },
     "execution_count": 12,
     "metadata": {},
     "output_type": "execute_result"
    }
   ],
   "source": [
    "y[0]"
   ]
  },
  {
   "cell_type": "code",
   "execution_count": 13,
   "metadata": {},
   "outputs": [],
   "source": [
    "X = np.array(X)\n",
    "y = np.array(y)"
   ]
  },
  {
   "cell_type": "code",
   "execution_count": 14,
   "metadata": {},
   "outputs": [],
   "source": [
    "from sklearn.model_selection import train_test_split\n",
    "X_train, X_test, y_train, y_test = train_test_split(X, y, random_state=0)"
   ]
  },
  {
   "cell_type": "code",
   "execution_count": 15,
   "metadata": {},
   "outputs": [
    {
     "data": {
      "text/plain": [
       "45"
      ]
     },
     "execution_count": 15,
     "metadata": {},
     "output_type": "execute_result"
    }
   ],
   "source": [
    "len(X_train)"
   ]
  },
  {
   "cell_type": "code",
   "execution_count": 16,
   "metadata": {},
   "outputs": [],
   "source": [
    "X_train_scaled = X_train / 255\n",
    "X_test_scaled = X_test / 255"
   ]
  },
  {
   "cell_type": "code",
   "execution_count": 17,
   "metadata": {},
   "outputs": [
    {
     "data": {
      "text/plain": [
       "<matplotlib.image.AxesImage at 0x1b9103a75e0>"
      ]
     },
     "execution_count": 17,
     "metadata": {},
     "output_type": "execute_result"
    },
    {
     "data": {
      "image/png": "[encoded data removed]",
      "text/plain": [
       "<Figure size 432x288 with 1 Axes>"
      ]
     },
     "metadata": {
      "needs_background": "light"
     },
     "output_type": "display_data"
    }
   ],
   "source": [
    "plt.axis('off')\n",
    "plt.imshow(X[0])"
   ]
  },
  {
   "cell_type": "code",
   "execution_count": 18,
   "metadata": {},
   "outputs": [],
   "source": [
    "data_augmentation = keras.Sequential([\n",
    "    layers.experimental.preprocessing.RandomZoom(0.2),\n",
    "    layers.experimental.preprocessing.RandomContrast(0.1)\n",
    "])"
   ]
  },
  {
   "cell_type": "code",
   "execution_count": 19,
   "metadata": {},
   "outputs": [
    {
     "name": "stdout",
     "output_type": "stream",
     "text": [
      "Epoch 1/21\n",
      "2/2 [==============================] - 2s 372ms/step - loss: 3.4265 - accuracy: 0.4889\n",
      "Epoch 2/21\n",
      "2/2 [==============================] - 1s 369ms/step - loss: 1.3269 - accuracy: 0.6444\n",
      "Epoch 3/21\n",
      "2/2 [==============================] - 1s 354ms/step - loss: 1.2918 - accuracy: 0.5111\n",
      "Epoch 4/21\n",
      "2/2 [==============================] - 1s 343ms/step - loss: 0.6996 - accuracy: 0.4889\n",
      "Epoch 5/21\n",
      "2/2 [==============================] - 1s 344ms/step - loss: 1.0081 - accuracy: 0.4889\n",
      "Epoch 6/21\n",
      "2/2 [==============================] - 1s 354ms/step - loss: 0.7893 - accuracy: 0.4889\n",
      "Epoch 7/21\n",
      "2/2 [==============================] - 1s 363ms/step - loss: 0.5572 - accuracy: 0.7111\n",
      "Epoch 8/21\n",
      "2/2 [==============================] - 1s 354ms/step - loss: 0.5497 - accuracy: 0.7333\n",
      "Epoch 9/21\n",
      "2/2 [==============================] - 1s 348ms/step - loss: 0.5199 - accuracy: 0.7556\n",
      "Epoch 10/21\n",
      "2/2 [==============================] - 1s 348ms/step - loss: 0.5002 - accuracy: 0.8000\n",
      "Epoch 11/21\n",
      "2/2 [==============================] - 1s 348ms/step - loss: 0.4965 - accuracy: 0.8222\n",
      "Epoch 12/21\n",
      "2/2 [==============================] - 1s 354ms/step - loss: 0.4026 - accuracy: 0.8889\n",
      "Epoch 13/21\n",
      "2/2 [==============================] - 1s 342ms/step - loss: 0.4003 - accuracy: 0.8889\n",
      "Epoch 14/21\n",
      "2/2 [==============================] - 1s 348ms/step - loss: 0.3318 - accuracy: 0.8889\n",
      "Epoch 15/21\n",
      "2/2 [==============================] - 1s 332ms/step - loss: 0.3218 - accuracy: 0.8667\n",
      "Epoch 16/21\n",
      "2/2 [==============================] - 1s 352ms/step - loss: 0.2550 - accuracy: 0.9111\n",
      "Epoch 17/21\n",
      "2/2 [==============================] - 1s 363ms/step - loss: 0.2050 - accuracy: 0.9556\n",
      "Epoch 18/21\n",
      "2/2 [==============================] - 1s 348ms/step - loss: 0.2472 - accuracy: 0.9333\n",
      "Epoch 19/21\n",
      "2/2 [==============================] - 1s 353ms/step - loss: 0.1674 - accuracy: 0.9556\n",
      "Epoch 20/21\n",
      "2/2 [==============================] - 1s 349ms/step - loss: 0.1478 - accuracy: 0.9333\n",
      "Epoch 21/21\n",
      "2/2 [==============================] - 1s 345ms/step - loss: 0.1259 - accuracy: 0.9556\n"
     ]
    },
    {
     "data": {
      "text/plain": [
       "<tensorflow.python.keras.callbacks.History at 0x1b917ee3dc0>"
      ]
     },
     "execution_count": 19,
     "metadata": {},
     "output_type": "execute_result"
    }
   ],
   "source": [
    "n = 2\n",
    "model = Sequential([\n",
    "    data_augmentation,\n",
    "    layers.Conv2D(16, 3, padding='same', activation='relu'),\n",
    "    layers.MaxPooling2D(),\n",
    "    layers.Conv2D(32, 3, padding='same', activation='relu'),\n",
    "    layers.MaxPooling2D(),\n",
    "    layers.Flatten(),\n",
    "    layers.Dense(128, activation='relu'),\n",
    "    layers.Dense(n)\n",
    "])\n",
    "model.compile(optimizer='adam',\n",
    "             loss=tf.keras.losses.SparseCategoricalCrossentropy(from_logits=True),\n",
    "             metrics=['accuracy'])\n",
    "model.fit(X_train_scaled, y_train, epochs=21)"
   ]
  },
  {
   "cell_type": "code",
   "execution_count": 20,
   "metadata": {},
   "outputs": [
    {
     "name": "stdout",
     "output_type": "stream",
     "text": [
      "1/1 [==============================] - 0s 417ms/step - loss: 0.4818 - accuracy: 0.8000\n"
     ]
    },
    {
     "data": {
      "text/plain": [
       "[0.48180198669433594, 0.800000011920929]"
      ]
     },
     "execution_count": 20,
     "metadata": {},
     "output_type": "execute_result"
    }
   ],
   "source": [
    "model.evaluate(X_test_scaled, y_test)"
   ]
  },
  {
   "cell_type": "code",
   "execution_count": 21,
   "metadata": {},
   "outputs": [
    {
     "data": {
      "text/plain": [
       "(15,)"
      ]
     },
     "execution_count": 21,
     "metadata": {},
     "output_type": "execute_result"
    }
   ],
   "source": [
    "y_test.shape"
   ]
  },
  {
   "cell_type": "code",
   "execution_count": 22,
   "metadata": {},
   "outputs": [],
   "source": [
    "y_predict = model.predict(X_test_scaled)"
   ]
  },
  {
   "cell_type": "code",
   "execution_count": 23,
   "metadata": {},
   "outputs": [
    {
     "data": {
      "text/plain": [
       "1"
      ]
     },
     "execution_count": 23,
     "metadata": {},
     "output_type": "execute_result"
    }
   ],
   "source": [
    "np.argmax(y_predict[0])"
   ]
  },
  {
   "cell_type": "code",
   "execution_count": 24,
   "metadata": {},
   "outputs": [
    {
     "data": {
      "text/plain": [
       "1"
      ]
     },
     "execution_count": 24,
     "metadata": {},
     "output_type": "execute_result"
    }
   ],
   "source": [
    "y_test[0]"
   ]
  },
  {
   "cell_type": "code",
   "execution_count": 25,
   "metadata": {},
   "outputs": [],
   "source": [
    "y_pred = []\n",
    "\n",
    "for element in y_predict:\n",
    "    y_pred.append(np.argmax(element))"
   ]
  },
  {
   "cell_type": "code",
   "execution_count": 26,
   "metadata": {},
   "outputs": [
    {
     "data": {
      "text/plain": [
       "[1, 0, 0, 1, 1]"
      ]
     },
     "execution_count": 26,
     "metadata": {},
     "output_type": "execute_result"
    }
   ],
   "source": [
    "y_pred[:5]"
   ]
  },
  {
   "cell_type": "code",
   "execution_count": 27,
   "metadata": {},
   "outputs": [
    {
     "data": {
      "text/plain": [
       "array([1, 0, 0, 1, 1])"
      ]
     },
     "execution_count": 27,
     "metadata": {},
     "output_type": "execute_result"
    }
   ],
   "source": [
    "y_test[:5]"
   ]
  },
  {
   "cell_type": "code",
   "execution_count": 28,
   "metadata": {},
   "outputs": [
    {
     "name": "stdout",
     "output_type": "stream",
     "text": [
      "              precision    recall  f1-score   support\n",
      "\n",
      "           0       1.00      0.62      0.77         8\n",
      "           1       0.70      1.00      0.82         7\n",
      "\n",
      "    accuracy                           0.80        15\n",
      "   macro avg       0.85      0.81      0.80        15\n",
      "weighted avg       0.86      0.80      0.79        15\n",
      "\n"
     ]
    }
   ],
   "source": [
    "from sklearn.metrics import confusion_matrix, classification_report\n",
    "\n",
    "print(classification_report(y_test, y_pred))"
   ]
  },
  {
   "cell_type": "code",
   "execution_count": 29,
   "metadata": {},
   "outputs": [
    {
     "data": {
      "text/plain": [
       "Text(60.0, 0.5, 'Truth')"
      ]
     },
     "execution_count": 29,
     "metadata": {},
     "output_type": "execute_result"
    },
    {
     "data": {
      "image/png": "[encoded data removed]",
      "text/plain": [
       "<Figure size 648x432 with 2 Axes>"
      ]
     },
     "metadata": {
      "needs_background": "light"
     },
     "output_type": "display_data"
    }
   ],
   "source": [
    "import seaborn as sns\n",
    "cm = tf.math.confusion_matrix(labels=y_test,predictions=y_pred)\n",
    "\n",
    "plt.figure(figsize=(9,6))\n",
    "sns.heatmap(cm, annot=True, fmt='d')\n",
    "plt.xlabel('predicted')\n",
    "plt.ylabel('Truth')"
   ]
  }
 ],
 "metadata": {
  "kernelspec": {
   "display_name": "Python 3",
   "language": "python",
   "name": "python3"
  },
  "language_info": {
   "codemirror_mode": {
    "name": "ipython",
    "version": 3
   },
   "file_extension": ".py",
   "mimetype": "text/x-python",
   "name": "python",
   "nbconvert_exporter": "python",
   "pygments_lexer": "ipython3",
   "version": "3.8.5"
  }
 },
 "nbformat": 4,
 "nbformat_minor": 4
}
